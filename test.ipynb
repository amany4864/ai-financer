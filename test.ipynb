{
 "cells": [
  {
   "cell_type": "code",
   "execution_count": null,
   "id": "79c958e4",
   "metadata": {},
   "outputs": [],
   "source": [
    "from langchain_openai import ChatOpenAI"
   ]
  },
  {
   "cell_type": "code",
   "execution_count": null,
   "id": "f207f6e1",
   "metadata": {},
   "outputs": [],
   "source": [
    "import os\n",
    "from dotenv import load_dotenv\n",
    "load_dotenv()"
   ]
  },
  {
   "cell_type": "code",
   "execution_count": null,
   "id": "c39792db",
   "metadata": {},
   "outputs": [],
   "source": [
    "\n",
    "# Get API keys from environment variables\n",
    "OPEN_API_KEY = os.getenv(\"OPENAI_API_KEY\")\n",
    "LANGSMITH_API_KEY = os.getenv(\"LANGSMITH_API_KEY\")\n",
    "GROK_API_KEY = os.getenv(\"GROK_API_KEY\")\n",
    "LANGSMITH_ENDPOINT=\"https://api.smith.langchain.com\"\n",
    "LANGSMITH_PROJECT = os.getenv(\"LANGSMITH_PROJECT\", \"financer\")\n",
    "\n",
    "LANGSMITH_TRACING=True"
   ]
  },
  {
   "cell_type": "code",
   "execution_count": null,
   "id": "42a6295c",
   "metadata": {},
   "outputs": [],
   "source": [
    "llm= ChatOpenAI(model_name=\"gpt-4o\",)\n",
    "print(llm.invoke(\"What is the capital of France?\"))"
   ]
  },
  {
   "cell_type": "code",
   "execution_count": 76,
   "id": "238bef9e",
   "metadata": {},
   "outputs": [],
   "source": [
    "import yfinance as yf\n",
    "from datetime import datetime\n",
    "import feedparser\n",
    "def get_yfinance_news(ticker, max_items=5):\n",
    "    try:\n",
    "        news = yf.Ticker(ticker).news\n",
    "        print(len(news))\n",
    "        if not news:\n",
    "            return \"No news available for this ticker.\"\n",
    "        result = []\n",
    "        for item in news:\n",
    "            print(len(item),item)\n",
    "            # if result and len(result) >= max_items:\n",
    "            #     break\n",
    "            # # print(item)\n",
    "            # published = item.get('providerPublishTime')\n",
    "            # if published:\n",
    "            #     published = datetime.utcfromtimestamp(published).strftime('%Y-%m-%d %H:%M:%S')\n",
    "            # else:\n",
    "            #     published = ''\n",
    "            \n",
    "            result.append({\n",
    "                'title': item['title'],\n",
    "                'link': item['link'],\n",
    "                # 'published': published\n",
    "            })\n",
    "            print(len(result))\n",
    "        return result\n",
    "    except Exception:\n",
    "        return []\n",
    "\n",
    "\n"
   ]
  },
  {
   "cell_type": "code",
   "execution_count": 77,
   "id": "31f2ce24",
   "metadata": {},
   "outputs": [
    {
     "name": "stdout",
     "output_type": "stream",
     "text": [
      "10\n",
      "2 {'id': '4bdef547-e9b8-30a8-bdeb-5b040e294730', 'content': {'id': '4bdef547-e9b8-30a8-bdeb-5b040e294730', 'contentType': 'STORY', 'title': 'Electric Vehicles Today - European Battery Testing Market Accelerates with Regulatory Boost', 'description': '', 'summary': 'The European market for electric vehicle (EV) battery testing, inspection, and certification is set to experience significant growth, projected to escalate from $410.9 million in 2024 to $2.21 billion by 2034. This expansion is driven by stringent EU regulations, increased adoption of EVs, and advances in testing technologies, which ensure battery safety and compliance. The market growth is further supported by EU incentives and sustainability goals, with innovative technologies like AI...', 'pubDate': '2025-06-23T10:39:34Z', 'displayTime': '2025-06-23T10:39:34Z', 'isHosted': True, 'bypassModal': False, 'previewUrl': None, 'thumbnail': {'originalUrl': 'https://media.zenfs.com/en/simply_wall_st__316/8a9a68e8370d8514f2f282dc3b4a5a72', 'originalWidth': 1194, 'originalHeight': 432, 'caption': '', 'resolutions': [{'url': 'https://s.yimg.com/uu/api/res/1.2/9XMS3UcgcDT0g1JMASMPzA--~B/aD00MzI7dz0xMTk0O2FwcGlkPXl0YWNoeW9u/https://media.zenfs.com/en/simply_wall_st__316/8a9a68e8370d8514f2f282dc3b4a5a72', 'width': 1194, 'height': 432, 'tag': 'original'}, {'url': 'https://s.yimg.com/uu/api/res/1.2/BfNsGw3kz55uY8UWdl6XKQ--~B/Zmk9c3RyaW07aD0xMjg7dz0xNzA7YXBwaWQ9eXRhY2h5b24-/https://media.zenfs.com/en/simply_wall_st__316/8a9a68e8370d8514f2f282dc3b4a5a72', 'width': 170, 'height': 128, 'tag': '170x128'}]}, 'provider': {'displayName': 'Simply Wall St.', 'url': 'https://simplywall.st/'}, 'canonicalUrl': {'url': 'https://finance.yahoo.com/news/electric-vehicles-today-european-battery-103934889.html', 'site': 'finance', 'region': 'US', 'lang': 'en-US'}, 'clickThroughUrl': {'url': 'https://finance.yahoo.com/news/electric-vehicles-today-european-battery-103934889.html', 'site': 'finance', 'region': 'US', 'lang': 'en-US'}, 'metadata': {'editorsPick': False}, 'finance': {'premiumFinance': {'isPremiumNews': False, 'isPremiumFreeNews': False}}, 'storyline': None}}\n",
      "[]\n"
     ]
    }
   ],
   "source": [
    "print(get_yfinance_news(\"TSLA\", 5))"
   ]
  },
  {
   "cell_type": "code",
   "execution_count": 73,
   "id": "5299f24b",
   "metadata": {},
   "outputs": [
    {
     "name": "stdout",
     "output_type": "stream",
     "text": [
      "[{'id': '10087f91-8b65-35af-88cc-d491f891e6f8', 'content': {'id': '10087f91-8b65-35af-88cc-d491f891e6f8', 'contentType': 'STORY', 'title': 'Musk’s robotaxis caught speeding as they hit roads for the first time', 'description': '', 'summary': 'Elon Musk’s Tesla robotaxis have been caught speeding and driving into oncoming traffic as the billionaire’s driverless ride-hailing service hits roads for the first time.', 'pubDate': '2025-06-23T09:11:50Z', 'displayTime': '2025-06-23T09:11:50Z', 'isHosted': True, 'bypassModal': False, 'previewUrl': None, 'thumbnail': None, 'provider': {'displayName': 'The Telegraph', 'url': 'http://www.telegraph.co.uk/'}, 'canonicalUrl': {'url': 'https://uk.finance.yahoo.com/news/musk-robotaxis-caught-speeding-hit-091150644.html', 'site': 'finance', 'region': 'GB', 'lang': 'en-GB'}, 'clickThroughUrl': {'url': 'https://finance.yahoo.com/news/musk-robotaxis-caught-speeding-hit-091150644.html', 'site': 'finance', 'region': 'US', 'lang': 'en-US'}, 'metadata': {'editorsPick': False}, 'finance': {'premiumFinance': {'isPremiumNews': False, 'isPremiumFreeNews': False}}, 'storyline': None}}, {'id': 'b2491a2a-fd9b-308d-a06c-9044f21949a4', 'content': {'id': 'b2491a2a-fd9b-308d-a06c-9044f21949a4', 'contentType': 'STORY', 'title': 'Tesla Stock Jumps After Musk’s Robo-Taxi Rollout. Where Shares Go From Here.', 'description': '', 'summary': 'Tesla did it. They have taken money for a fully autonomous taxi ride. Few can say they’ve met that milestone.', 'pubDate': '2025-06-23T09:11:00Z', 'displayTime': '2025-06-23T09:11:00Z', 'isHosted': False, 'bypassModal': False, 'previewUrl': 'https://finance.yahoo.com/m/b2491a2a-fd9b-308d-a06c-9044f21949a4/tesla-stock-jumps-after.html', 'thumbnail': {'originalUrl': 'https://media.zenfs.com/en/Barrons.com/999c843278659572e2fb322b89bf47ae', 'originalWidth': 1280, 'originalHeight': 640, 'caption': '', 'resolutions': [{'url': 'https://s.yimg.com/uu/api/res/1.2/8288X6jiw6ichA83oS5M9g--~B/aD02NDA7dz0xMjgwO2FwcGlkPXl0YWNoeW9u/https://media.zenfs.com/en/Barrons.com/999c843278659572e2fb322b89bf47ae', 'width': 1280, 'height': 640, 'tag': 'original'}, {'url': 'https://s.yimg.com/uu/api/res/1.2/UmC3pLy5fs91gapLn78zzA--~B/Zmk9c3RyaW07aD0xMjg7dz0xNzA7YXBwaWQ9eXRhY2h5b24-/https://media.zenfs.com/en/Barrons.com/999c843278659572e2fb322b89bf47ae', 'width': 170, 'height': 128, 'tag': '170x128'}]}, 'provider': {'displayName': 'Barrons.com', 'url': 'http://www.barrons.com/'}, 'canonicalUrl': {'url': 'https://www.barrons.com/articles/tesla-stock-price-musk-robo-taxi-1ef135b7?siteid=yhoof2&yptr=yahoo', 'site': 'finance', 'region': 'US', 'lang': 'en-US'}, 'clickThroughUrl': None, 'metadata': {'editorsPick': False}, 'finance': {'premiumFinance': {'isPremiumNews': False, 'isPremiumFreeNews': False}}, 'storyline': None}}, {'id': '48a83903-fbb9-312e-84f2-c0f4dfa85016', 'content': {'id': '48a83903-fbb9-312e-84f2-c0f4dfa85016', 'contentType': 'STORY', 'title': 'Tesla Taps Retail Investors for Stage-Managed Robotaxi Launch', 'description': '', 'summary': '(Bloomberg) -- Tesla Inc. rolled out its long-promised driverless taxi service to a handful of riders Sunday, a modest debut for what Elon Musk sees as a transformative new business line.Most Read from BloombergBezos Wedding Draws Protests, Soul-Searching Over Tourism in VeniceOne Architect’s Quest to Save Mumbai’s Heritage From DisappearingNYC Congestion Toll Cuts Manhattan Gridlock by 25%, RPA ReportsThe first robotaxi trips were limited to a narrow portion of Tesla’s hometown of Austin, with', 'pubDate': '2025-06-23T09:05:07Z', 'displayTime': '2025-06-23T09:05:07Z', 'isHosted': True, 'bypassModal': False, 'previewUrl': None, 'thumbnail': {'originalUrl': 'https://media.zenfs.com/en/bloomberg_holding_pen_162/6bf9a02bb230b1242114e0bb29f293e5', 'originalWidth': 2000, 'originalHeight': 1335, 'caption': '', 'resolutions': [{'url': 'https://s.yimg.com/uu/api/res/1.2/Wp3Rc5dEVDsH9Wc49ggtNw--~B/aD0xMzM1O3c9MjAwMDthcHBpZD15dGFjaHlvbg--/https://media.zenfs.com/en/bloomberg_holding_pen_162/6bf9a02bb230b1242114e0bb29f293e5', 'width': 2000, 'height': 1335, 'tag': 'original'}, {'url': 'https://s.yimg.com/uu/api/res/1.2/ba4z5u4MK7KZek.DSFdTCQ--~B/Zmk9c3RyaW07aD0xMjg7dz0xNzA7YXBwaWQ9eXRhY2h5b24-/https://media.zenfs.com/en/bloomberg_holding_pen_162/6bf9a02bb230b1242114e0bb29f293e5', 'width': 170, 'height': 128, 'tag': '170x128'}]}, 'provider': {'displayName': 'Bloomberg', 'url': 'https://www.bloomberg.com/company'}, 'canonicalUrl': {'url': 'https://finance.yahoo.com/news/tesla-starts-long-awaited-robotaxi-003252048.html', 'site': 'finance', 'region': 'US', 'lang': 'en-US'}, 'clickThroughUrl': {'url': 'https://finance.yahoo.com/news/tesla-starts-long-awaited-robotaxi-003252048.html', 'site': 'finance', 'region': 'US', 'lang': 'en-US'}, 'metadata': {'editorsPick': False}, 'finance': {'premiumFinance': {'isPremiumNews': False, 'isPremiumFreeNews': False}}, 'storyline': None}}, {'id': '22f8e7fd-63f3-38e6-81b9-d67468900ae2', 'content': {'id': '22f8e7fd-63f3-38e6-81b9-d67468900ae2', 'contentType': 'STORY', 'title': 'These Stocks Are Moving the Most Today: Northrop Grumman, Exxon, Tesla, Northern Trust, and More', 'description': '', 'summary': 'Shares of defense contractors like Northrop Grumman are rising after the U.S. attacked Iranian nuclear sites over the weekend.', 'pubDate': '2025-06-23T09:04:00Z', 'displayTime': '2025-06-23T09:04:00Z', 'isHosted': False, 'bypassModal': False, 'previewUrl': 'https://finance.yahoo.com/m/22f8e7fd-63f3-38e6-81b9-d67468900ae2/these-stocks-are-moving-the.html', 'thumbnail': {'originalUrl': 'https://media.zenfs.com/en/Barrons.com/2caa458efd67fc77728d5659af94b212', 'originalWidth': 1280, 'originalHeight': 640, 'caption': '', 'resolutions': [{'url': 'https://s.yimg.com/uu/api/res/1.2/z3gTvYOPlktS6r3ixcCUcg--~B/aD02NDA7dz0xMjgwO2FwcGlkPXl0YWNoeW9u/https://media.zenfs.com/en/Barrons.com/2caa458efd67fc77728d5659af94b212', 'width': 1280, 'height': 640, 'tag': 'original'}, {'url': 'https://s.yimg.com/uu/api/res/1.2/PSj.JLEHVU4tCsjtdaekFQ--~B/Zmk9c3RyaW07aD0xMjg7dz0xNzA7YXBwaWQ9eXRhY2h5b24-/https://media.zenfs.com/en/Barrons.com/2caa458efd67fc77728d5659af94b212', 'width': 170, 'height': 128, 'tag': '170x128'}]}, 'provider': {'displayName': 'Barrons.com', 'url': 'http://www.barrons.com/'}, 'canonicalUrl': {'url': 'https://www.barrons.com/articles/stock-movers-0b3ff026?siteid=yhoof2&yptr=yahoo', 'site': 'finance', 'region': 'US', 'lang': 'en-US'}, 'clickThroughUrl': None, 'metadata': {'editorsPick': False}, 'finance': {'premiumFinance': {'isPremiumNews': False, 'isPremiumFreeNews': False}}, 'storyline': None}}, {'id': '3e7354ef-9793-3405-bcd0-5448e93fb8eb', 'content': {'id': '3e7354ef-9793-3405-bcd0-5448e93fb8eb', 'contentType': 'STORY', 'title': 'Tesla’s Robotaxis Are Here: What You Need to Know', 'description': '', 'summary': 'The electric-car maker launches a long-promised autonomous-taxi service in Austin to a select group of invitees.', 'pubDate': '2025-06-22T21:42:00Z', 'displayTime': '2025-06-22T21:42:00Z', 'isHosted': False, 'bypassModal': False, 'previewUrl': 'https://finance.yahoo.com/m/3e7354ef-9793-3405-bcd0-5448e93fb8eb/tesla%E2%80%99s-robotaxis-are-here-.html', 'thumbnail': {'originalUrl': 'https://media.zenfs.com/en/wsj.com/a97795b82397f3267b86a1e732b97a56', 'originalWidth': 1280, 'originalHeight': 640, 'caption': '', 'resolutions': [{'url': 'https://s.yimg.com/uu/api/res/1.2/4ddXWEmD2OgSMalmBeyjfQ--~B/aD02NDA7dz0xMjgwO2FwcGlkPXl0YWNoeW9u/https://media.zenfs.com/en/wsj.com/a97795b82397f3267b86a1e732b97a56', 'width': 1280, 'height': 640, 'tag': 'original'}, {'url': 'https://s.yimg.com/uu/api/res/1.2/62kb.zGiFBlz2wwyOCniiQ--~B/Zmk9c3RyaW07aD0xMjg7dz0xNzA7YXBwaWQ9eXRhY2h5b24-/https://media.zenfs.com/en/wsj.com/a97795b82397f3267b86a1e732b97a56', 'width': 170, 'height': 128, 'tag': '170x128'}]}, 'provider': {'displayName': 'The Wall Street Journal', 'url': 'http://www.wsj.com/'}, 'canonicalUrl': {'url': 'https://www.wsj.com/business/autos/tesla-robotaxi-explained-e3db95b8?siteid=yhoof2&yptr=yahoo', 'site': 'finance', 'region': 'US', 'lang': 'en-US'}, 'clickThroughUrl': None, 'metadata': {'editorsPick': False}, 'finance': {'premiumFinance': {'isPremiumNews': False, 'isPremiumFreeNews': False}}, 'storyline': None}}, {'id': '0e01a8e3-4f62-3edb-bcd0-2ea83938e771', 'content': {'id': '0e01a8e3-4f62-3edb-bcd0-2ea83938e771', 'contentType': 'STORY', 'title': \"Factbox-How Tesla's robotaxi efforts stack up against Waymo and Zoox\", 'description': '', 'summary': \"Electric car maker Tesla started a trial of its long-awaited robotaxi service in Austin, Texas, on Sunday, the first step toward what could be a showdown with Alphabet's Waymo, the only player currently offering fully autonomous paid rides in the United States. Tesla Chief Executive Elon Musk has started off with about 10 Model Ys and promised to focus on safety. He says Tesla could scale quickly, and he plans a separate robotaxi vehicle.\", 'pubDate': '2025-06-22T21:22:22Z', 'displayTime': '2025-06-22T21:22:22Z', 'isHosted': True, 'bypassModal': False, 'previewUrl': None, 'thumbnail': {'originalUrl': 'https://media.zenfs.com/en/reuters.com/c5713198dd092230f576e16c279a19e0', 'originalWidth': 800, 'originalHeight': 534, 'caption': 'Tesla robotaxis launch in Austin, Texas', 'resolutions': [{'url': 'https://s.yimg.com/uu/api/res/1.2/u69CQQJW4bM5_Hv.1gRH7w--~B/aD01MzQ7dz04MDA7YXBwaWQ9eXRhY2h5b24-/https://media.zenfs.com/en/reuters.com/c5713198dd092230f576e16c279a19e0', 'width': 800, 'height': 534, 'tag': 'original'}, {'url': 'https://s.yimg.com/uu/api/res/1.2/sEYFuwxcbYnIRwIJUxAWsA--~B/Zmk9c3RyaW07aD0xMjg7dz0xNzA7YXBwaWQ9eXRhY2h5b24-/https://media.zenfs.com/en/reuters.com/c5713198dd092230f576e16c279a19e0', 'width': 170, 'height': 128, 'tag': '170x128'}]}, 'provider': {'displayName': 'Reuters', 'url': 'https://www.reuters.com/'}, 'canonicalUrl': {'url': 'https://finance.yahoo.com/news/factbox-teslas-robotaxi-efforts-stack-212222737.html', 'site': 'finance', 'region': 'US', 'lang': 'en-US'}, 'clickThroughUrl': {'url': 'https://finance.yahoo.com/news/factbox-teslas-robotaxi-efforts-stack-212222737.html', 'site': 'finance', 'region': 'US', 'lang': 'en-US'}, 'metadata': {'editorsPick': False}, 'finance': {'premiumFinance': {'isPremiumNews': False, 'isPremiumFreeNews': False}}, 'storyline': None}}, {'id': '16e8cdd9-0567-3c05-b426-71e58c74b448', 'content': {'id': '16e8cdd9-0567-3c05-b426-71e58c74b448', 'contentType': 'STORY', 'title': 'Tesla Launches Its Austin Robo-Taxi Today. Here’s What to Know.', 'description': '', 'summary': 'Tesla launches its highly anticipated robo-taxi service on Sunday. It’s a big deal for the company, the car industry, and the tech world.', 'pubDate': '2025-06-22T21:11:00Z', 'displayTime': '2025-06-22T21:11:00Z', 'isHosted': False, 'bypassModal': False, 'previewUrl': 'https://finance.yahoo.com/m/16e8cdd9-0567-3c05-b426-71e58c74b448/tesla-launches-its-austin.html', 'thumbnail': {'originalUrl': 'https://media.zenfs.com/en/Barrons.com/2ade06cb156f9b7a2c56160ff20c4a23', 'originalWidth': 1280, 'originalHeight': 640, 'caption': '', 'resolutions': [{'url': 'https://s.yimg.com/uu/api/res/1.2/aROIpaYd1..mkrvUU1mAyQ--~B/aD02NDA7dz0xMjgwO2FwcGlkPXl0YWNoeW9u/https://media.zenfs.com/en/Barrons.com/2ade06cb156f9b7a2c56160ff20c4a23', 'width': 1280, 'height': 640, 'tag': 'original'}, {'url': 'https://s.yimg.com/uu/api/res/1.2/hjqpfNODSjBehgeMlJ1mlw--~B/Zmk9c3RyaW07aD0xMjg7dz0xNzA7YXBwaWQ9eXRhY2h5b24-/https://media.zenfs.com/en/Barrons.com/2ade06cb156f9b7a2c56160ff20c4a23', 'width': 170, 'height': 128, 'tag': '170x128'}]}, 'provider': {'displayName': 'Barrons.com', 'url': 'http://www.barrons.com/'}, 'canonicalUrl': {'url': 'https://www.barrons.com/articles/tesla-robo-taxi-launch-ev-stock-ed245c1c?siteid=yhoof2&yptr=yahoo', 'site': 'finance', 'region': 'US', 'lang': 'en-US'}, 'clickThroughUrl': None, 'metadata': {'editorsPick': False}, 'finance': {'premiumFinance': {'isPremiumNews': False, 'isPremiumFreeNews': False}}, 'storyline': None}}, {'id': '99a6d47c-adf5-3e73-a92b-35431ac8220b', 'content': {'id': '99a6d47c-adf5-3e73-a92b-35431ac8220b', 'contentType': 'STORY', 'title': 'Tesla launches robotaxi rides in Austin with big promises and unanswered questions', 'description': '', 'summary': 'Tesla has started giving rides in driverless Model Y SUVs in Austin. Details are still sparse, but limited service is open to vetted and invited riders.', 'pubDate': '2025-06-22T20:58:02Z', 'displayTime': '2025-06-22T20:58:02Z', 'isHosted': True, 'bypassModal': False, 'previewUrl': None, 'thumbnail': {'originalUrl': 'https://media.zenfs.com/en/techcrunch_finance_785/fc7744877811bad4f785b58519f4718e', 'originalWidth': 2232, 'originalHeight': 956, 'caption': 'tesla-robotaxi-interior', 'resolutions': [{'url': 'https://s.yimg.com/uu/api/res/1.2/g.L1k1TisEkFQd7Xoy2Frg--~B/aD05NTY7dz0yMjMyO2FwcGlkPXl0YWNoeW9u/https://media.zenfs.com/en/techcrunch_finance_785/fc7744877811bad4f785b58519f4718e', 'width': 2232, 'height': 956, 'tag': 'original'}, {'url': 'https://s.yimg.com/uu/api/res/1.2/efOOfXHhrQYy8hxdJGkgYQ--~B/Zmk9c3RyaW07aD0xMjg7dz0xNzA7YXBwaWQ9eXRhY2h5b24-/https://media.zenfs.com/en/techcrunch_finance_785/fc7744877811bad4f785b58519f4718e', 'width': 170, 'height': 128, 'tag': '170x128'}]}, 'provider': {'displayName': 'TechCrunch', 'url': 'https://techcrunch.com/'}, 'canonicalUrl': {'url': 'https://finance.yahoo.com/news/tesla-launches-robotaxi-rides-austin-205802328.html', 'site': 'finance', 'region': 'US', 'lang': 'en-US'}, 'clickThroughUrl': {'url': 'https://finance.yahoo.com/news/tesla-launches-robotaxi-rides-austin-205802328.html', 'site': 'finance', 'region': 'US', 'lang': 'en-US'}, 'metadata': {'editorsPick': False}, 'finance': {'premiumFinance': {'isPremiumNews': False, 'isPremiumFreeNews': False}}, 'storyline': None}}, {'id': '2c88370c-7516-3476-9575-825e8388cf6f', 'content': {'id': '2c88370c-7516-3476-9575-825e8388cf6f', 'contentType': 'STORY', 'title': 'Musk says robotaxi to launch in Austin, Texas on Sunday afternoon', 'description': '', 'summary': 'Tesla has started testing robotaxis with passengers in Austin, Texas, CEO Elon Musk said on Sunday, with customers paying a flat fee of $4.20, as the electric vehicle maker looks to roll out the much-anticipated service and gain a foothold in the self-driving technology race.', 'pubDate': '2025-06-22T17:25:25Z', 'displayTime': '2025-06-22T17:25:25Z', 'isHosted': True, 'bypassModal': False, 'previewUrl': None, 'thumbnail': {'originalUrl': 'https://media.zenfs.com/en/reuters-finance.com/9388880eebc9ec9804f50534b95da6c4', 'originalWidth': 800, 'originalHeight': 534, 'caption': 'Tesla robotaxis launch in Austin, Texas', 'resolutions': [{'url': 'https://s.yimg.com/uu/api/res/1.2/CQAkLSXVGIxoyZV4FT8reg--~B/aD01MzQ7dz04MDA7YXBwaWQ9eXRhY2h5b24-/https://media.zenfs.com/en/reuters-finance.com/9388880eebc9ec9804f50534b95da6c4', 'width': 800, 'height': 534, 'tag': 'original'}, {'url': 'https://s.yimg.com/uu/api/res/1.2/v0nwoX8q5SBL8W4Fcku3ig--~B/Zmk9c3RyaW07aD0xMjg7dz0xNzA7YXBwaWQ9eXRhY2h5b24-/https://media.zenfs.com/en/reuters-finance.com/9388880eebc9ec9804f50534b95da6c4', 'width': 170, 'height': 128, 'tag': '170x128'}]}, 'provider': {'displayName': 'Reuters', 'url': 'http://www.reuters.com/'}, 'canonicalUrl': {'url': 'https://tech.yahoo.com/transportation/articles/musk-says-robotaxi-launch-austin-172525091.html', 'site': 'tech', 'region': 'US', 'lang': 'en-US'}, 'clickThroughUrl': {'url': 'https://tech.yahoo.com/transportation/articles/musk-says-robotaxi-launch-austin-172525091.html', 'site': 'finance', 'region': 'US', 'lang': 'en-US'}, 'metadata': {'editorsPick': False}, 'finance': {'premiumFinance': {'isPremiumNews': False, 'isPremiumFreeNews': False}}, 'storyline': None}}, {'id': 'aecf35c4-cfc9-3e50-8f8d-79e007535959', 'content': {'id': 'aecf35c4-cfc9-3e50-8f8d-79e007535959', 'contentType': 'STORY', 'title': 'Robotaxis, Powell and Other Key Things to Watch this Week', 'description': '', 'summary': 'Markets enter the final week of June facing a complex landscape of geopolitical uncertainties, critical economic data, and a potential technological milestone. Here are 5 things to watch this week in the Market.', 'pubDate': '2025-06-22T17:00:02Z', 'displayTime': '2025-06-22T17:00:02Z', 'isHosted': True, 'bypassModal': False, 'previewUrl': None, 'thumbnail': {'originalUrl': 'https://media.zenfs.com/en/barchart_com_477/a3f8b7b175c2147da9ed22b631b9dee3', 'originalWidth': 1600, 'originalHeight': 1063, 'caption': 'Magnifying glass showing the words Pre Market by Evan_huang via Shutterstock', 'resolutions': [{'url': 'https://s.yimg.com/uu/api/res/1.2/zjCk8nIxtODkJSKkZ9WzuA--~B/aD0xMDYzO3c9MTYwMDthcHBpZD15dGFjaHlvbg--/https://media.zenfs.com/en/barchart_com_477/a3f8b7b175c2147da9ed22b631b9dee3', 'width': 1600, 'height': 1063, 'tag': 'original'}, {'url': 'https://s.yimg.com/uu/api/res/1.2/m9RjLCIqsUqHBqUFdjGR3g--~B/Zmk9c3RyaW07aD0xMjg7dz0xNzA7YXBwaWQ9eXRhY2h5b24-/https://media.zenfs.com/en/barchart_com_477/a3f8b7b175c2147da9ed22b631b9dee3', 'width': 170, 'height': 128, 'tag': '170x128'}]}, 'provider': {'displayName': 'Barchart', 'url': 'https://www.barchart.com/'}, 'canonicalUrl': {'url': 'https://www.barchart.com/story/news/32991930/robotaxis-powell-and-other-key-things-to-watch-this-week', 'site': 'finance', 'region': 'US', 'lang': 'en-US'}, 'clickThroughUrl': {'url': 'https://finance.yahoo.com/news/robotaxis-powell-other-key-things-170002705.html', 'site': 'finance', 'region': 'US', 'lang': 'en-US'}, 'metadata': {'editorsPick': False}, 'finance': {'premiumFinance': {'isPremiumNews': False, 'isPremiumFreeNews': False}}, 'storyline': None}}]\n"
     ]
    }
   ],
   "source": [
    "import yfinance as yf\n",
    "res=list(yf.Ticker(\"TSLA\").news)\n",
    "print(res)"
   ]
  },
  {
   "cell_type": "code",
   "execution_count": null,
   "id": "eb5329ac",
   "metadata": {},
   "outputs": [],
   "source": [
    "def get_google_news(query, max_items=5):\n",
    "    url = f\"https://news.google.com/rss/search?q={query.replace(' ', '+')}\"\n",
    "    feed = feedparser.parse(url)\n",
    "    return [\n",
    "        {\n",
    "            'title': entry.title,\n",
    "            'link': entry.link,\n",
    "            'published': entry.published\n",
    "        } for entry in feed.entries[:max_items]\n",
    "    ]"
   ]
  },
  {
   "cell_type": "code",
   "execution_count": null,
   "id": "a5fb6790",
   "metadata": {},
   "outputs": [],
   "source": [
    "\n",
    "def build_news_sentiment_prompt(company_news, world_news):\n",
    "    prompt = (\n",
    "        \"You are a professional financial analyst. When answering, ALWAYS consider both company-specific news and broader world news (such as wars, geopolitics, economic events) \"\n",
    "        \"as these can significantly impact the market and your analysis. \"\n",
    "        \"Tell the user that both sources are being used in your reasoning.\\n\\n\"\n",
    "        \"Below are recent company-specific news headlines:\\n\"\n",
    "    )\n",
    "    for i, item in enumerate(company_news, 1):\n",
    "        prompt += f\"{i}. {item['title']} ({item['published']})\\n\"\n",
    "    prompt += \"\\nRecent broader/world news headlines:\\n\"\n",
    "    for i, item in enumerate(world_news, 1):\n",
    "        prompt += f\"{i}. {item['title']} ({item['published']})\\n\"\n",
    "    prompt += (\n",
    "        \"\\nFirst, summarize the sentiment of each news set; then combine their insights into your final answer or suggestion. \"\n",
    "        \"Explicitly state to the user that both company and world news have been considered.\\n\"\n",
    "        \"Format:\\n\"\n",
    "        \"1. Company news sentiment summary\\n\"\n",
    "        \"2. World news sentiment summary\\n\"\n",
    "        \"3. Final answer, clearly noting both sources were used.\\n\"\n",
    "    )\n",
    "    return prompt\n"
   ]
  }
 ],
 "metadata": {
  "kernelspec": {
   "display_name": "Python (fin)",
   "language": "python",
   "name": "fin"
  },
  "language_info": {
   "codemirror_mode": {
    "name": "ipython",
    "version": 3
   },
   "file_extension": ".py",
   "mimetype": "text/x-python",
   "name": "python",
   "nbconvert_exporter": "python",
   "pygments_lexer": "ipython3",
   "version": "3.12.11"
  }
 },
 "nbformat": 4,
 "nbformat_minor": 5
}
