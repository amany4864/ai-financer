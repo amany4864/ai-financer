{
 "cells": [
  {
   "cell_type": "code",
   "execution_count": 17,
   "id": "12ae8d70",
   "metadata": {},
   "outputs": [],
   "source": [
    "from typing import Union, Dict, Set, List, TypedDict, Annotated\n",
    "import pandas as pd\n",
    "from langchain_core.tools import tool\n",
    "import yfinance as yf\n",
    "from ta.momentum import RSIIndicator, StochasticOscillator\n",
    "from ta.trend import SMAIndicator, EMAIndicator, MACD\n",
    "from ta.volume import volume_weighted_average_price\n",
    "import datetime as dt\n",
    "\n",
    "@tool\n",
    "def get_stock_prices(ticker: str) -> Union[Dict, str]:\n",
    "    \"\"\"Fetches historical stock price data and technical indicator for a given ticker.\"\"\"\n",
    "    try:\n",
    "        data = yf.download(\n",
    "            ticker,\n",
    "            start=dt.datetime.now() - dt.timedelta(weeks=24*3),\n",
    "            end=dt.datetime.now(),\n",
    "            interval='1wk'\n",
    "        )\n",
    "        df= data.copy()\n",
    "        data.reset_index(inplace=True)\n",
    "        data.Date = data.Date.astype(str)\n",
    "        \n",
    "        indicators = {}\n",
    "        \n",
    "        rsi_series = RSIIndicator(df['Close'], window=14).rsi().iloc[-12:]\n",
    "        indicators[\"RSI\"] = {date.strftime('%Y-%m-%d'): int(value) \n",
    "                    for date, value in rsi_series.dropna().to_dict().items()}\n",
    "        \n",
    "        sto_series = StochasticOscillator(\n",
    "            df['High'], df['Low'], df['Close'], window=14).stoch().iloc[-12:]\n",
    "        indicators[\"Stochastic_Oscillator\"] = {\n",
    "                    date.strftime('%Y-%m-%d'): int(value) \n",
    "                    for date, value in sto_series.dropna().to_dict().items()}\n",
    "\n",
    "        macd = MACD(df['Close'])\n",
    "        macd_series = macd.macd().iloc[-12:]\n",
    "        indicators[\"MACD\"] = {date.strftime('%Y-%m-%d'): int(value) \n",
    "                    for date, value in macd_series.to_dict().items()}\n",
    "        \n",
    "        macd_signal_series = macd.macd_signal().iloc[-12:]\n",
    "        indicators[\"MACD_Signal\"] = {date.strftime('%Y-%m-%d'): int(value) \n",
    "                    for date, value in macd_signal_series.to_dict().items()}\n",
    "        \n",
    "        vwap_series = volume_weighted_average_price(\n",
    "            high=df['High'], low=df['Low'], close=df['Close'], \n",
    "            volume=df['Volume'],\n",
    "        ).iloc[-12:]\n",
    "        indicators[\"vwap\"] = {date.strftime('%Y-%m-%d'): int(value) \n",
    "                    for date, value in vwap_series.to_dict().items()}\n",
    "        \n",
    "        return {'stock_price': data.to_dict(orient='records'),\n",
    "                'indicators': indicators}\n",
    "\n",
    "    except Exception as e:\n",
    "        return f\"Error fetching price data: {str(e)}\"\n"
   ]
  },
  {
   "cell_type": "code",
   "execution_count": 3,
   "id": "361d3bc6",
   "metadata": {},
   "outputs": [],
   "source": [
    "@tool\n",
    "def get_financial_metrics(ticker: str) -> Union[Dict, str]:\n",
    "    \"\"\"Fetches key financial ratios for a given ticker.\"\"\"\n",
    "    try:\n",
    "        stock = yf.Ticker(ticker)\n",
    "        info = stock.info\n",
    "        return {\n",
    "            'pe_ratio': info.get('forwardPE'),\n",
    "            'price_to_book': info.get('priceToBook'),\n",
    "            'debt_to_equity': info.get('debtToEquity'),\n",
    "            'profit_margins': info.get('profitMargins')\n",
    "        }\n",
    "    except Exception as e:\n",
    "        return f\"Error fetching ratios: {str(e)}\""
   ]
  },
  {
   "cell_type": "markdown",
   "id": "213066b9",
   "metadata": {},
   "source": [
    "\n",
    "LangGraph"
   ]
  },
  {
   "cell_type": "code",
   "execution_count": null,
   "id": "8665ff48",
   "metadata": {},
   "outputs": [],
   "source": [
    "from langgraph.graph import StateGraph, START, END\n",
    "from typing_extensions import TypedDict,Annotated\n",
    "from langgraph.graph.message import add_messages\n",
    "\n",
    "\n",
    "\n",
    "class State(TypedDict):\n",
    "    messages: Annotated[list, add_messages]\n",
    "    stock: str\n",
    "    \n",
    "graph_builder = StateGraph(State)"
   ]
  },
  {
   "cell_type": "code",
   "execution_count": 18,
   "id": "9b11026f",
   "metadata": {},
   "outputs": [],
   "source": [
    "import dotenv\n",
    "dotenv.load_dotenv()\n",
    "\n",
    "from langchain_openai import ChatOpenAI\n",
    "\n",
    "llm = ChatOpenAI(model='gpt-4o-mini')\n",
    "\n",
    "tools = [get_stock_prices, get_financial_metrics]\n",
    "llm_with_tool = llm.bind_tools(tools)"
   ]
  },
  {
   "cell_type": "code",
   "execution_count": 12,
   "id": "594f158b",
   "metadata": {},
   "outputs": [],
   "source": [
    "FUNDAMENTAL_ANALYST_PROMPT = \"\"\"\n",
    "You are a fundamental analyst specializing in evaluating company (whose symbol is {company}) performance based on stock prices, technical indicators, and financial metrics. Your task is to provide a comprehensive summary of the fundamental analysis for a given stock.\n",
    "\n",
    "You have access to the following tools:\n",
    "1. **get_stock_prices**: Retrieves the latest stock price, historical price data and technical Indicators like RSI, MACD, Drawdown and VWAP.\n",
    "2. **get_financial_metrics**: Retrieves key financial metrics, such as revenue, earnings per share (EPS), price-to-earnings ratio (P/E), and debt-to-equity ratio.\n",
    "\n",
    "### Your Task:\n",
    "1. **Input Stock Symbol**: Use the provided stock symbol to query the tools and gather the relevant information.\n",
    "2. **Analyze Data**: Evaluate the results from the tools and identify potential resistance, key trends, strengths, or concerns.\n",
    "3. **Provide Summary**: Write a concise, well-structured summary that highlights:\n",
    "    - Recent stock price movements, trends and potential resistance.\n",
    "    - Key insights from technical indicators (e.g., whether the stock is overbought or oversold).\n",
    "    - Financial health and performance based on financial metrics.\n",
    "\n",
    "### Constraints:\n",
    "- Use only the data provided by the tools.\n",
    "- Avoid speculative language; focus on observable data and trends.\n",
    "- If any tool fails to provide data, clearly state that in your summary.\n",
    "\n",
    "### Output Format:\n",
    "Respond in the following format:\n",
    "\"stock\": \"<Stock Symbol>\",\n",
    "\"price_analysis\": \"<Detailed analysis of stock price trends>\",\n",
    "\"technical_analysis\": \"<Detailed time series Analysis from ALL technical indicators>\",\n",
    "\"financial_analysis\": \"<Detailed analysis from financial metrics>\",\n",
    "\"final Summary\": \"<Full Conclusion based on the above analyses>\"\n",
    "\"Asked Question Answer\": \"<Answer based on the details and analysis above>\"\n",
    "\n",
    "Ensure that your response is objective, concise, and actionable.\"\"\"\n",
    "\n"
   ]
  },
  {
   "cell_type": "code",
   "execution_count": null,
   "id": "ee4d2c1c",
   "metadata": {},
   "outputs": [],
   "source": [
    "from langchain_core.messages import SystemMessage\n",
    "\n",
    "\n",
    "def fundamental_analyst(state: State):\n",
    "    messages = [\n",
    "        SystemMessage(content=FUNDAMENTAL_ANALYST_PROMPT.format(company=state['stock'])),\n",
    "    ]  + state['messages']\n",
    "    return {\n",
    "        'messages': llm_with_tool.invoke(messages)\n",
    "    }\n"
   ]
  },
  {
   "cell_type": "code",
   "execution_count": 21,
   "id": "454390d3",
   "metadata": {},
   "outputs": [],
   "source": [
    "\n",
    "def tools_condition(state):\n",
    "\t# Example: always call all tools, or implement logic based on state/messages\n",
    " \n",
    "\treturn [tool.name for tool in tools]\n",
    "\n",
    "# Define a node function that can be called by the graph\n",
    "def tools_node(state):\n",
    "\t# You can implement logic to call tools here if needed\n",
    "\treturn state"
   ]
  },
  {
   "cell_type": "code",
   "execution_count": 22,
   "id": "7e19c741",
   "metadata": {},
   "outputs": [
    {
     "name": "stderr",
     "output_type": "stream",
     "text": [
      "Adding a node to a graph that has already been compiled. This will not be reflected in the compiled graph.\n"
     ]
    },
    {
     "ename": "ValueError",
     "evalue": "Node `fundamental_analyst` already present.",
     "output_type": "error",
     "traceback": [
      "\u001b[1;31m---------------------------------------------------------------------------\u001b[0m",
      "\u001b[1;31mValueError\u001b[0m                                Traceback (most recent call last)",
      "Cell \u001b[1;32mIn[22], line 1\u001b[0m\n\u001b[1;32m----> 1\u001b[0m \u001b[43mgraph_builder\u001b[49m\u001b[38;5;241;43m.\u001b[39;49m\u001b[43madd_node\u001b[49m\u001b[43m(\u001b[49m\u001b[38;5;124;43m'\u001b[39;49m\u001b[38;5;124;43mfundamental_analyst\u001b[39;49m\u001b[38;5;124;43m'\u001b[39;49m\u001b[43m,\u001b[49m\u001b[43m \u001b[49m\u001b[43mfundamental_analyst\u001b[49m\u001b[43m)\u001b[49m\n\u001b[0;32m      2\u001b[0m graph_builder\u001b[38;5;241m.\u001b[39madd_edge(START, \u001b[38;5;124m'\u001b[39m\u001b[38;5;124mfundamental_analyst\u001b[39m\u001b[38;5;124m'\u001b[39m)\n",
      "File \u001b[1;32mc:\\ProgramData\\anaconda3\\envs\\fin\\Lib\\site-packages\\langgraph\\graph\\state.py:375\u001b[0m, in \u001b[0;36mStateGraph.add_node\u001b[1;34m(self, node, action, defer, metadata, input, retry, cache_policy, destinations)\u001b[0m\n\u001b[0;32m    373\u001b[0m     \u001b[38;5;28;01mraise\u001b[39;00m \u001b[38;5;167;01mRuntimeError\u001b[39;00m\n\u001b[0;32m    374\u001b[0m \u001b[38;5;28;01mif\u001b[39;00m node \u001b[38;5;129;01min\u001b[39;00m \u001b[38;5;28mself\u001b[39m\u001b[38;5;241m.\u001b[39mnodes:\n\u001b[1;32m--> 375\u001b[0m     \u001b[38;5;28;01mraise\u001b[39;00m \u001b[38;5;167;01mValueError\u001b[39;00m(\u001b[38;5;124mf\u001b[39m\u001b[38;5;124m\"\u001b[39m\u001b[38;5;124mNode `\u001b[39m\u001b[38;5;132;01m{\u001b[39;00mnode\u001b[38;5;132;01m}\u001b[39;00m\u001b[38;5;124m` already present.\u001b[39m\u001b[38;5;124m\"\u001b[39m)\n\u001b[0;32m    376\u001b[0m \u001b[38;5;28;01mif\u001b[39;00m node \u001b[38;5;241m==\u001b[39m END \u001b[38;5;129;01mor\u001b[39;00m node \u001b[38;5;241m==\u001b[39m START:\n\u001b[0;32m    377\u001b[0m     \u001b[38;5;28;01mraise\u001b[39;00m \u001b[38;5;167;01mValueError\u001b[39;00m(\u001b[38;5;124mf\u001b[39m\u001b[38;5;124m\"\u001b[39m\u001b[38;5;124mNode `\u001b[39m\u001b[38;5;132;01m{\u001b[39;00mnode\u001b[38;5;132;01m}\u001b[39;00m\u001b[38;5;124m` is reserved.\u001b[39m\u001b[38;5;124m\"\u001b[39m)\n",
      "\u001b[1;31mValueError\u001b[0m: Node `fundamental_analyst` already present."
     ]
    }
   ],
   "source": [
    "\n",
    "graph_builder.add_node('fundamental_analyst', fundamental_analyst)\n",
    "graph_builder.add_edge(START, 'fundamental_analyst')"
   ]
  },
  {
   "cell_type": "code",
   "execution_count": 23,
   "id": "d23e01d7",
   "metadata": {},
   "outputs": [
    {
     "name": "stderr",
     "output_type": "stream",
     "text": [
      "Adding a node to a graph that has already been compiled. This will not be reflected in the compiled graph.\n"
     ]
    },
    {
     "ename": "ValueError",
     "evalue": "Node `tools` already present.",
     "output_type": "error",
     "traceback": [
      "\u001b[1;31m---------------------------------------------------------------------------\u001b[0m",
      "\u001b[1;31mValueError\u001b[0m                                Traceback (most recent call last)",
      "Cell \u001b[1;32mIn[23], line 4\u001b[0m\n\u001b[0;32m      1\u001b[0m \u001b[38;5;28;01mfrom\u001b[39;00m \u001b[38;5;21;01mlanggraph\u001b[39;00m\u001b[38;5;21;01m.\u001b[39;00m\u001b[38;5;21;01mgraph\u001b[39;00m \u001b[38;5;28;01mimport\u001b[39;00m StateGraph, END\n\u001b[1;32m----> 4\u001b[0m \u001b[43mgraph_builder\u001b[49m\u001b[38;5;241;43m.\u001b[39;49m\u001b[43madd_node\u001b[49m\u001b[43m(\u001b[49m\u001b[38;5;124;43m\"\u001b[39;49m\u001b[38;5;124;43mtools\u001b[39;49m\u001b[38;5;124;43m\"\u001b[39;49m\u001b[43m,\u001b[49m\u001b[43m \u001b[49m\u001b[43mtools_node\u001b[49m\u001b[43m)\u001b[49m\n\u001b[0;32m      6\u001b[0m graph_builder\u001b[38;5;241m.\u001b[39madd_conditional_edges(\u001b[38;5;124m'\u001b[39m\u001b[38;5;124mfundamental_analyst\u001b[39m\u001b[38;5;124m'\u001b[39m, tools_condition)\n\u001b[0;32m      7\u001b[0m graph_builder\u001b[38;5;241m.\u001b[39madd_edge(\u001b[38;5;124m'\u001b[39m\u001b[38;5;124mtools\u001b[39m\u001b[38;5;124m'\u001b[39m, \u001b[38;5;124m'\u001b[39m\u001b[38;5;124mfundamental_analyst\u001b[39m\u001b[38;5;124m'\u001b[39m)\n",
      "File \u001b[1;32mc:\\ProgramData\\anaconda3\\envs\\fin\\Lib\\site-packages\\langgraph\\graph\\state.py:375\u001b[0m, in \u001b[0;36mStateGraph.add_node\u001b[1;34m(self, node, action, defer, metadata, input, retry, cache_policy, destinations)\u001b[0m\n\u001b[0;32m    373\u001b[0m     \u001b[38;5;28;01mraise\u001b[39;00m \u001b[38;5;167;01mRuntimeError\u001b[39;00m\n\u001b[0;32m    374\u001b[0m \u001b[38;5;28;01mif\u001b[39;00m node \u001b[38;5;129;01min\u001b[39;00m \u001b[38;5;28mself\u001b[39m\u001b[38;5;241m.\u001b[39mnodes:\n\u001b[1;32m--> 375\u001b[0m     \u001b[38;5;28;01mraise\u001b[39;00m \u001b[38;5;167;01mValueError\u001b[39;00m(\u001b[38;5;124mf\u001b[39m\u001b[38;5;124m\"\u001b[39m\u001b[38;5;124mNode `\u001b[39m\u001b[38;5;132;01m{\u001b[39;00mnode\u001b[38;5;132;01m}\u001b[39;00m\u001b[38;5;124m` already present.\u001b[39m\u001b[38;5;124m\"\u001b[39m)\n\u001b[0;32m    376\u001b[0m \u001b[38;5;28;01mif\u001b[39;00m node \u001b[38;5;241m==\u001b[39m END \u001b[38;5;129;01mor\u001b[39;00m node \u001b[38;5;241m==\u001b[39m START:\n\u001b[0;32m    377\u001b[0m     \u001b[38;5;28;01mraise\u001b[39;00m \u001b[38;5;167;01mValueError\u001b[39;00m(\u001b[38;5;124mf\u001b[39m\u001b[38;5;124m\"\u001b[39m\u001b[38;5;124mNode `\u001b[39m\u001b[38;5;132;01m{\u001b[39;00mnode\u001b[38;5;132;01m}\u001b[39;00m\u001b[38;5;124m` is reserved.\u001b[39m\u001b[38;5;124m\"\u001b[39m)\n",
      "\u001b[1;31mValueError\u001b[0m: Node `tools` already present."
     ]
    }
   ],
   "source": [
    "from langgraph.graph import StateGraph, END\n",
    "\n",
    "\n",
    "graph_builder.add_node(\"tools\", tools_node)\n",
    "\n",
    "graph_builder.add_conditional_edges('fundamental_analyst', tools_condition)\n",
    "graph_builder.add_edge('tools', 'fundamental_analyst')\n",
    "\n",
    "graph = graph_builder.compile()"
   ]
  },
  {
   "cell_type": "code",
   "execution_count": 25,
   "id": "e7d5b653",
   "metadata": {},
   "outputs": [
    {
     "data": {
      "image/png": "[encoded data removed]",
      "text/plain": [
       "<langgraph.graph.state.CompiledStateGraph object at 0x0000023B7915EDB0>"
      ]
     },
     "execution_count": 25,
     "metadata": {},
     "output_type": "execute_result"
    }
   ],
   "source": [
    "graph"
   ]
  },
  {
   "cell_type": "code",
   "execution_count": 24,
   "id": "a2da594b",
   "metadata": {},
   "outputs": [
    {
     "name": "stdout",
     "output_type": "stream",
     "text": [
      "================================\u001b[1m Human Message \u001b[0m=================================\n",
      "\n",
      "Should I buy this stock?\n",
      "==================================\u001b[1m Ai Message \u001b[0m==================================\n",
      "Tool Calls:\n",
      "  get_stock_prices (call_pZpd4iBxzHYNkSY4Ki1ATRs2)\n",
      " Call ID: call_pZpd4iBxzHYNkSY4Ki1ATRs2\n",
      "  Args:\n",
      "    ticker: TSLA\n",
      "  get_financial_metrics (call_1ckFkCiRpOIyCRbOro6zMgUz)\n",
      " Call ID: call_1ckFkCiRpOIyCRbOro6zMgUz\n",
      "  Args:\n",
      "    ticker: TSLA\n"
     ]
    }
   ],
   "source": [
    "events = graph.stream({'messages':[('user', 'Should I buy this stock?')],\n",
    " 'stock': 'TSLA'}, stream_mode='values')\n",
    "for event in events:\n",
    "    if 'messages' in event:\n",
    "        event['messages'][-1].pretty_print()"
   ]
  },
  {
   "cell_type": "code",
   "execution_count": null,
   "id": "5f744e9b",
   "metadata": {},
   "outputs": [],
   "source": []
  }
 ],
 "metadata": {
  "kernelspec": {
   "display_name": "Python (fin)",
   "language": "python",
   "name": "fin"
  },
  "language_info": {
   "codemirror_mode": {
    "name": "ipython",
    "version": 3
   },
   "file_extension": ".py",
   "mimetype": "text/x-python",
   "name": "python",
   "nbconvert_exporter": "python",
   "pygments_lexer": "ipython3",
   "version": "3.12.11"
  }
 },
 "nbformat": 4,
 "nbformat_minor": 5
}
