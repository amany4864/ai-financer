{
 "cells": [
  {
   "cell_type": "code",
   "execution_count": 1,
   "metadata": {},
   "outputs": [],
   "source": [
    "FUNDAMENTAL_ANALYST_PROMPT = \"\"\"\n",
    "You are a fundamental analyst specializing in evaluating company (whose symbol is {company}) performance based on stock prices, technical indicators, and financial metrics. Your task is to provide a comprehensive summary of the fundamental analysis for a given stock.\n",
    "\n",
    "You have access to the following tools:\n",
    "1. **get_stock_prices**: Retrieves the latest stock price, historical price data and technical Indicators like RSI, MACD, Drawdown and VWAP.\n",
    "2. **get_financial_metrics**: Retrieves key financial metrics, such as revenue, earnings per share (EPS), price-to-earnings ratio (P/E), and debt-to-equity ratio.\n",
    "\n",
    "### Your Task:\n",
    "1. **Input Stock Symbol**: Use the provided stock symbol to query the tools and gather the relevant information.\n",
    "2. **Analyze Data**: Evaluate the results from the tools and identify potential resistance, key trends, strengths, or concerns.\n",
    "3. **Provide Summary**: Write a concise, well-structured summary that highlights:\n",
    "    - Recent stock price movements, trends and potential resistance.\n",
    "    - Key insights from technical indicators (e.g., whether the stock is overbought or oversold).\n",
    "    - Financial health and performance based on financial metrics.\n",
    "\n",
    "### Constraints:\n",
    "- Use only the data provided by the tools.\n",
    "- Avoid speculative language; focus on observable data and trends.\n",
    "- If any tool fails to provide data, clearly state that in your summary.\n",
    "\n",
    "### Output Format:\n",
    "Respond in the following format:\n",
    "\"stock\": \"<Stock Symbol>\",\n",
    "\"price_analysis\": \"<Detailed analysis of stock price trends>\",\n",
    "\"technical_analysis\": \"<Detailed time series Analysis from ALL technical indicators>\",\n",
    "\"financial_analysis\": \"<Detailed analysis from financial metrics>\",\n",
    "\"final Summary\": \"<Full Conclusion based on the above analyses>\"\n",
    "\"Asked Question Answer\": \"<Answer based on the details and analysis above>\"\n",
    "\n",
    "Ensure that your response is objective, concise, and actionable.\n",
    "\"\"\""
   ]
  },
  {
   "cell_type": "code",
   "execution_count": 2,
   "metadata": {},
   "outputs": [
    {
     "data": {
      "text/plain": [
       "True"
      ]
     },
     "execution_count": 2,
     "metadata": {},
     "output_type": "execute_result"
    }
   ],
   "source": [
    "from typing import Union, Dict, Set, List, TypedDict, Annotated\n",
    "from langgraph.graph import StateGraph, START, END\n",
    "from langchain_openai import ChatOpenAI\n",
    "from langchain_core.messages import SystemMessage, AIMessage, HumanMessage\n",
    "import yfinance as yf\n",
    "import datetime as dt\n",
    "from langchain_core.tools import tool\n",
    "from langgraph.prebuilt import ToolNode, tools_condition\n",
    "from langgraph.graph.message import add_messages\n",
    "from ta.momentum import RSIIndicator, StochasticOscillator\n",
    "from ta.trend import SMAIndicator, EMAIndicator, MACD\n",
    "from ta.volume import volume_weighted_average_price\n",
    "import traceback\n",
    "import pandas as pd\n",
    "import dotenv\n",
    "dotenv.load_dotenv()"
   ]
  },
  {
   "cell_type": "code",
   "execution_count": 3,
   "metadata": {},
   "outputs": [],
   "source": [
    "from typing_extensions import TypedDict\n",
    " \n",
    "class State(TypedDict):\n",
    "    messages: Annotated[list, add_messages]\n",
    "    stock: str\n",
    "    \n",
    "graph_builder = StateGraph(State)"
   ]
  },
  {
   "cell_type": "code",
   "execution_count": null,
   "metadata": {},
   "outputs": [],
   "source": [
    "@tool\n",
    "def get_stock_prices(ticker: str) -> Union[Dict, str]:\n",
    "    \"\"\"Fetches historical stock price data and technical indicator for a given ticker.\"\"\"\n",
    "    try:\n",
    "        data = yf.download(\n",
    "            ticker,\n",
    "            start=dt.datetime.now() - dt.timedelta(weeks=24*3),\n",
    "            end=dt.datetime.now(),\n",
    "            interval='1d'\n",
    "        )\n",
    "        df= data.copy()\n",
    "        if len(df.columns[0]) > 1:\n",
    "            df.columns = [i[0] for i in df.columns]\n",
    "        data.reset_index(inplace=True)\n",
    "        data.Date = data.Date.astype(str)\n",
    "        \n",
    "        indicators = {}\n",
    "\n",
    "        # Momentum Indicators\n",
    "        rsi_series = RSIIndicator(df['Close'], window=14).rsi().iloc[-12:]\n",
    "        indicators[\"RSI\"] = {date.strftime('%Y-%m-%d'): int(value) for date, value in rsi_series.dropna().to_dict().items()}\n",
    "        sto_series = StochasticOscillator(\n",
    "            df['High'], df['Low'], df['Close'], window=14).stoch().iloc[-12:]\n",
    "        # print(sto_series)\n",
    "        indicators[\"Stochastic_Oscillator\"] = {date.strftime('%Y-%m-%d'): int(value) for date, value in sto_series.dropna().to_dict().items()}\n",
    "\n",
    "        macd = MACD(df['Close'])\n",
    "        macd_series = macd.macd().iloc[-12:]\n",
    "        # print(macd_series)\n",
    "        indicators[\"MACD\"] = {date.strftime('%Y-%m-%d'): int(value) for date, value in macd_series.to_dict().items()}\n",
    "        macd_signal_series = macd.macd_signal().iloc[-12:]\n",
    "        # print(macd_signal_series)\n",
    "        indicators[\"MACD_Signal\"] = {date.strftime('%Y-%m-%d'): int(value) for date, value in macd_signal_series.to_dict().items()}\n",
    "        \n",
    "        vwap_series = volume_weighted_average_price(\n",
    "            high=df['High'],\n",
    "            low=df['Low'],\n",
    "            close=df['Close'],\n",
    "            volume=df['Volume'],\n",
    "        ).iloc[-12:]\n",
    "        indicators[\"vwap\"] = {date.strftime('%Y-%m-%d'): int(value) for date, value in vwap_series.to_dict().items()}\n",
    "        \n",
    "        return {'stock_price': data.to_dict(orient='records'), 'indicators': indicators}\n",
    "    except Exception as e:\n",
    "        return f\"Error fetching price data: {str(e)}\"\n",
    "    \n",
    "@tool\n",
    "def get_financial_metrics(ticker: str) -> Union[Dict, str]:\n",
    "    \"\"\"Fetches key financial ratios for a given ticker.\"\"\"\n",
    "    try:\n",
    "        stock = yf.Ticker(ticker)\n",
    "        info = stock.info\n",
    "        return {\n",
    "            'pe_ratio': info.get('forwardPE'),\n",
    "            'price_to_book': info.get('priceToBook'),\n",
    "            'debt_to_equity': info.get('debtToEquity'),\n",
    "            'profit_margins': info.get('profitMargins')\n",
    "        }\n",
    "    except Exception as e:\n",
    "        return f\"Error fetching ratios: {str(e)}\"\n",
    "\n",
    "   "
   ]
  },
  {
   "cell_type": "code",
   "execution_count": 6,
   "metadata": {},
   "outputs": [],
   "source": [
    "tools = [get_stock_prices, get_financial_metrics]\n",
    "llm = ChatOpenAI(model='gpt-4o-mini')\n",
    "llm_with_tool = llm.bind_tools(tools)\n"
   ]
  },
  {
   "cell_type": "code",
   "execution_count": null,
   "metadata": {},
   "outputs": [],
   "source": [
    "\n",
    "def fundamental_analyst(state: State):\n",
    "    messages = [\n",
    "        SystemMessage(content=FUNDAMENTAL_ANALYST_PROMPT.format(company=state['stock'])),\n",
    "    ]  + state['messages']\n",
    "    return {\n",
    "        'messages': llm_with_tool.invoke(messages)\n",
    "    }\n",
    "    \n",
    "graph_builder.add_node('fundamental_analyst', fundamental_analyst)\n",
    "graph_builder.add_edge(START, 'fundamental_analyst')\n",
    "graph_builder.add_node(ToolNode(tools))\n",
    "graph_builder.add_conditional_edges('fundamental_analyst', tools_condition)\n",
    "graph_builder.add_edge('tools', 'fundamental_analyst')\n",
    "# HumanMessage(content=)\n",
    "# graph_builder.add_edge('fundamental_analyst', END)\n",
    "graph = graph_builder.compile()\n"
   ]
  },
  {
   "cell_type": "code",
   "execution_count": 11,
   "metadata": {},
   "outputs": [
    {
     "name": "stdout",
     "output_type": "stream",
     "text": [
      "================================\u001b[1m Human Message \u001b[0m=================================\n",
      "\n",
      "Should I buy this stock?\n",
      "==================================\u001b[1m Ai Message \u001b[0m==================================\n",
      "Tool Calls:\n",
      "  get_stock_prices (call_cajXHBXl5FYoJvmKEJ5ZQB2I)\n",
      " Call ID: call_cajXHBXl5FYoJvmKEJ5ZQB2I\n",
      "  Args:\n",
      "    ticker: RTX\n",
      "  get_financial_metrics (call_rnw1pXGfui1o0EKOZXXUB2fY)\n",
      " Call ID: call_rnw1pXGfui1o0EKOZXXUB2fY\n",
      "  Args:\n",
      "    ticker: RTX\n"
     ]
    },
    {
     "name": "stderr",
     "output_type": "stream",
     "text": [
      "C:\\Users\\Aman Yadav\\AppData\\Local\\Temp\\ipykernel_33292\\2980786571.py:5: FutureWarning: YF.download() has changed argument auto_adjust default to True\n",
      "  data = yf.download(\n",
      "[*********************100%***********************]  1 of 1 completed\n"
     ]
    },
    {
     "name": "stdout",
     "output_type": "stream",
     "text": [
      "=================================\u001b[1m Tool Message \u001b[0m=================================\n",
      "Name: get_financial_metrics\n",
      "\n",
      "{\"pe_ratio\": 24.0, \"price_to_book\": 3.1845722, \"debt_to_equity\": 67.798, \"profit_margins\": 0.05628}\n",
      "==================================\u001b[1m Ai Message \u001b[0m==================================\n",
      "\n",
      "```json\n",
      "{\n",
      "  \"stock\": \"RTX\",\n",
      "  \"price_analysis\": \"Recently, RTX shares have shown considerable volatility with the price fluctuating around the $117 to $130 range. Notably, there was a spike towards $139 in early June but a recent downward trend has seen the stock closing around $116. The stock faced resistance around the $140 level and support appears to have formed near $112.46.\",\n",
      "  \"technical_analysis\": \"Technical indicators suggest mixed signals. The Relative Strength Index (RSI) indicates the stock is approaching overbought territory with values around 66-75 in recent trading sessions since early June. The Stochastic Oscillator also indicates overbought conditions with readings above 70. The Moving Average Convergence Divergence (MACD) shows positive momentum, though the recent uptick suggests it may be stabilizing. The Volume Weighted Average Price (VWAP) has been trending upwards, indicating positive market sentiment despite the recent price drops.\",\n",
      "  \"financial_analysis\": \"From a financial perspective, RTX has a price-to-earnings (P/E) ratio of 24.0, which suggests the stock is slightly overvalued compared to the overall market average. The price-to-book ratio stands at 3.18, reflecting a premium on its equity. Furthermore, the debt-to-equity ratio is 67.798, indicating a moderate level of leverage, which could imply financial risk if market conditions were to deteriorate. The profit margin of 5.63% is lower than the industry average, suggesting room for improvement in operational efficiency.\",\n",
      "  \"final Summary\": \"In summary, RTX presents a mixed investment profile. While technical indicators point to potential overbought conditions, there is also positive momentum and a general uptrend in the VWAP. However, the financial metrics indicate that the stock might be overvalued with a relatively low profit margin and moderate debt levels. Potential investors should consider these factors for future price movements and the overall strength of the balance sheet. A cautious approach may be prudent until further consolidation occurs in the stock's price.\",\n",
      "  \"Asked Question Answer\": \"Should you buy this stock? If you're looking for long-term potential, consider the valuation metrics and market conditions but be cautious of the current overbought indicators. Potential short-term traders may find opportunities; however, the longer-term financial health should also weigh in any investment decision.\"\n",
      "}\n",
      "```\n"
     ]
    }
   ],
   "source": [
    "\n",
    "\n",
    "events = graph.stream({'messages':[('user', 'Should I buy this stock?')],\n",
    " 'stock': 'RTX'}, stream_mode='values')\n",
    "for event in events:\n",
    "    if 'messages' in event:\n",
    "        event['messages'][-1].pretty_print()\n",
    "    "
   ]
  },
  {
   "cell_type": "code",
   "execution_count": 8,
   "metadata": {},
   "outputs": [
    {
     "data": {
      "image/png": "[encoded data removed]",
      "text/plain": [
       "<IPython.core.display.Image object>"
      ]
     },
     "metadata": {},
     "output_type": "display_data"
    }
   ],
   "source": [
    "from IPython.display import Image, display\n",
    "\n",
    "try:\n",
    "    display(Image(graph.get_graph().draw_mermaid_png()))\n",
    "except Exception:\n",
    "    # This requires some extra dependencies and is optional\n",
    "    pass"
   ]
  },
  {
   "cell_type": "code",
   "execution_count": 18,
   "metadata": {},
   "outputs": [],
   "source": [
    "def fun(ticker: str, days: int = 365) -> Union[Dict, str]:\n",
    "    \"\"\"\n",
    "    Fetch historical stock price data and calculate technical indicators like RSI, MACD, VWAP for a given period.\n",
    "    \"\"\"\n",
    "    try:\n",
    "        start_date = dt.datetime.today() - dt.timedelta(days=days)\n",
    "        end_date = dt.datetime.today()\n",
    "\n",
    "        print(f\"Fetching {ticker} data from {start_date.date()} to {end_date.date()}\")\n",
    "\n",
    "        data = yf.download(\n",
    "            ticker,\n",
    "            start=start_date,\n",
    "            end=end_date,\n",
    "            interval='1d',\n",
    "            auto_adjust=True\n",
    "        )\n",
    "\n",
    "        print(f\"Downloaded shape: {data.shape}\")\n",
    "        print(f\"Data columns: {data.columns}\")\n",
    "        print(f\"First few rows:\\n{data.head()}\")\n",
    "\n",
    "        # 🔧 Flatten MultiIndex columns\n",
    "        if isinstance(data.columns, pd.MultiIndex):\n",
    "            data.columns = [col[0] for col in data.columns]\n",
    "\n",
    "        if data.empty or len(data) < 20:\n",
    "            return f\"Only {len(data)} rows — not enough historical stock data to compute technical indicators.\"\n",
    "\n",
    "        df = data.copy()\n",
    "        df.reset_index(inplace=True)\n",
    "\n",
    "        indicators = {}\n",
    "\n",
    "        # RSI\n",
    "        rsi_series = RSIIndicator(df['Close'], window=14).rsi().iloc[-12:]\n",
    "        indicators[\"RSI\"] = {str(i): int(j) for i, j in rsi_series.dropna().items()}\n",
    "\n",
    "        # MACD\n",
    "        macd = MACD(df['Close'])\n",
    "        indicators[\"MACD\"] = {str(i): int(j) for i, j in macd.macd().iloc[-12:].items()}\n",
    "        indicators[\"MACD_Signal\"] = {str(i): int(j) for i, j in macd.macd_signal().iloc[-12:].items()}\n",
    "\n",
    "        # VWAP\n",
    "        vwap_series = volume_weighted_average_price(df['High'], df['Low'], df['Close'], df['Volume']).iloc[-12:]\n",
    "        indicators[\"VWAP\"] = {str(i): int(j) for i, j in vwap_series.dropna().items()}\n",
    "\n",
    "        return {\n",
    "            'stock_price': df.to_dict(orient='records'),\n",
    "            'indicators': indicators\n",
    "        }\n",
    "\n",
    "    except Exception as e:\n",
    "        return f\"Error fetching price data: {str(e)}\"\n"
   ]
  },
  {
   "cell_type": "code",
   "execution_count": 19,
   "metadata": {},
   "outputs": [
    {
     "name": "stdout",
     "output_type": "stream",
     "text": [
      "Fetching TSLA data from 2024-06-23 to 2025-06-23\n"
     ]
    },
    {
     "name": "stderr",
     "output_type": "stream",
     "text": [
      "[*********************100%***********************]  1 of 1 completed"
     ]
    },
    {
     "name": "stdout",
     "output_type": "stream",
     "text": [
      "Downloaded shape: (249, 5)\n",
      "Data columns: MultiIndex([( 'Close', 'TSLA'),\n",
      "            (  'High', 'TSLA'),\n",
      "            (   'Low', 'TSLA'),\n",
      "            (  'Open', 'TSLA'),\n",
      "            ('Volume', 'TSLA')],\n",
      "           names=['Price', 'Ticker'])\n",
      "First few rows:\n",
      "Price            Close        High         Low        Open    Volume\n",
      "Ticker            TSLA        TSLA        TSLA        TSLA      TSLA\n",
      "Date                                                                \n",
      "2024-06-24  182.580002  188.800003  182.550003  184.970001  61992100\n",
      "2024-06-25  187.350006  187.970001  182.009995  184.399994  63678300\n",
      "2024-06-26  196.369995  197.759995  186.360001  186.539993  95737100\n",
      "2024-06-27  197.419998  198.720001  194.050003  195.169998  72746500\n",
      "2024-06-28  197.880005  203.199997  195.259995  199.550003  95438100\n",
      "{'stock_price': [{'Date': Timestamp('2024-06-24 00:00:00'), 'Close': 182.5800018310547, 'High': 188.8000030517578, 'Low': 182.5500030517578, 'Open': 184.97000122070312, 'Volume': 61992100}, {'Date': Timestamp('2024-06-25 00:00:00'), 'Close': 187.35000610351562, 'High': 187.97000122070312, 'Low': 182.00999450683594, 'Open': 184.39999389648438, 'Volume': 63678300}, {'Date': Timestamp('2024-06-26 00:00:00'), 'Close': 196.3699951171875, 'High': 197.75999450683594, 'Low': 186.36000061035156, 'Open': 186.5399932861328, 'Volume': 95737100}, {'Date': Timestamp('2024-06-27 00:00:00'), 'Close': 197.4199981689453, 'High': 198.72000122070312, 'Low': 194.0500030517578, 'Open': 195.1699981689453, 'Volume': 72746500}, {'Date': Timestamp('2024-06-28 00:00:00'), 'Close': 197.8800048828125, 'High': 203.1999969482422, 'Low': 195.25999450683594, 'Open': 199.5500030517578, 'Volume': 95438100}, {'Date': Timestamp('2024-07-01 00:00:00'), 'Close': 209.86000061035156, 'High': 213.22999572753906, 'Low': 200.85000610351562, 'Open': 201.02000427246094, 'Volume': 135691400}, {'Date': Timestamp('2024-07-02 00:00:00'), 'Close': 231.25999450683594, 'High': 231.3000030517578, 'Low': 218.05999755859375, 'Open': 218.88999938964844, 'Volume': 205047900}, {'Date': Timestamp('2024-07-03 00:00:00'), 'Close': 246.38999938964844, 'High': 248.35000610351562, 'Low': 234.25, 'Open': 234.55999755859375, 'Volume': 166561500}, {'Date': Timestamp('2024-07-05 00:00:00'), 'Close': 251.52000427246094, 'High': 252.3699951171875, 'Low': 242.4600067138672, 'Open': 249.80999755859375, 'Volume': 154501200}, {'Date': Timestamp('2024-07-08 00:00:00'), 'Close': 252.94000244140625, 'High': 259.44000244140625, 'Low': 244.57000732421875, 'Open': 247.7100067138672, 'Volume': 157219600}, {'Date': Timestamp('2024-07-09 00:00:00'), 'Close': 262.3299865722656, 'High': 265.6099853515625, 'Low': 250.3000030517578, 'Open': 251.0, 'Volume': 160210900}, {'Date': Timestamp('2024-07-10 00:00:00'), 'Close': 263.260009765625, 'High': 267.5899963378906, 'Low': 257.8599853515625, 'Open': 262.79998779296875, 'Volume': 128519400}, {'Date': Timestamp('2024-07-11 00:00:00'), 'Close': 241.02999877929688, 'High': 271.0, 'Low': 239.64999389648438, 'Open': 263.29998779296875, 'Volume': 221707300}, {'Date': Timestamp('2024-07-12 00:00:00'), 'Close': 248.22999572753906, 'High': 251.83999633789062, 'Low': 233.08999633789062, 'Open': 235.8000030517578, 'Volume': 155955800}, {'Date': Timestamp('2024-07-15 00:00:00'), 'Close': 252.63999938964844, 'High': 265.6000061035156, 'Low': 251.72999572753906, 'Open': 255.97000122070312, 'Volume': 146912900}, {'Date': Timestamp('2024-07-16 00:00:00'), 'Close': 256.55999755859375, 'High': 258.6199951171875, 'Low': 245.8000030517578, 'Open': 255.30999755859375, 'Volume': 126332500}, {'Date': Timestamp('2024-07-17 00:00:00'), 'Close': 248.5, 'High': 258.4700012207031, 'Low': 246.17999267578125, 'Open': 252.72999572753906, 'Volume': 115584800}, {'Date': Timestamp('2024-07-18 00:00:00'), 'Close': 249.22999572753906, 'High': 257.1400146484375, 'Low': 247.1999969482422, 'Open': 251.08999633789062, 'Volume': 110869000}, {'Date': Timestamp('2024-07-19 00:00:00'), 'Close': 239.1999969482422, 'High': 249.44000244140625, 'Low': 236.8300018310547, 'Open': 247.7899932861328, 'Volume': 87403900}, {'Date': Timestamp('2024-07-22 00:00:00'), 'Close': 251.50999450683594, 'High': 253.2100067138672, 'Low': 243.75, 'Open': 244.2100067138672, 'Volume': 101225400}, {'Date': Timestamp('2024-07-23 00:00:00'), 'Close': 246.3800048828125, 'High': 255.75999450683594, 'Low': 245.6300048828125, 'Open': 253.60000610351562, 'Volume': 111928200}, {'Date': Timestamp('2024-07-24 00:00:00'), 'Close': 215.99000549316406, 'High': 225.99000549316406, 'Low': 214.7100067138672, 'Open': 225.4199981689453, 'Volume': 167942900}, {'Date': Timestamp('2024-07-25 00:00:00'), 'Close': 220.25, 'High': 226.0, 'Low': 216.22999572753906, 'Open': 216.8000030517578, 'Volume': 100636500}, {'Date': Timestamp('2024-07-26 00:00:00'), 'Close': 219.8000030517578, 'High': 222.27999877929688, 'Low': 215.3300018310547, 'Open': 221.19000244140625, 'Volume': 94604100}, {'Date': Timestamp('2024-07-29 00:00:00'), 'Close': 232.10000610351562, 'High': 234.27000427246094, 'Low': 224.6999969482422, 'Open': 224.89999389648438, 'Volume': 129201800}, {'Date': Timestamp('2024-07-30 00:00:00'), 'Close': 222.6199951171875, 'High': 232.41000366210938, 'Low': 220.0, 'Open': 232.25, 'Volume': 100560300}, {'Date': Timestamp('2024-07-31 00:00:00'), 'Close': 232.07000732421875, 'High': 234.67999267578125, 'Low': 226.7899932861328, 'Open': 227.89999389648438, 'Volume': 67497000}, {'Date': Timestamp('2024-08-01 00:00:00'), 'Close': 216.86000061035156, 'High': 231.8699951171875, 'Low': 214.3300018310547, 'Open': 227.69000244140625, 'Volume': 83861900}, {'Date': Timestamp('2024-08-02 00:00:00'), 'Close': 207.6699981689453, 'High': 216.1300048828125, 'Low': 205.77999877929688, 'Open': 214.8800048828125, 'Volume': 82880100}, {'Date': Timestamp('2024-08-05 00:00:00'), 'Close': 198.8800048828125, 'High': 203.8800048828125, 'Low': 182.0, 'Open': 185.22000122070312, 'Volume': 100308800}, {'Date': Timestamp('2024-08-06 00:00:00'), 'Close': 200.63999938964844, 'High': 202.89999389648438, 'Low': 192.6699981689453, 'Open': 200.75, 'Volume': 73783900}, {'Date': Timestamp('2024-08-07 00:00:00'), 'Close': 191.75999450683594, 'High': 203.49000549316406, 'Low': 191.47999572753906, 'Open': 200.77000427246094, 'Volume': 71159800}, {'Date': Timestamp('2024-08-08 00:00:00'), 'Close': 198.83999633789062, 'High': 200.6999969482422, 'Low': 192.0399932861328, 'Open': 195.6999969482422, 'Volume': 65033900}, {'Date': Timestamp('2024-08-09 00:00:00'), 'Close': 200.0, 'High': 200.8800048828125, 'Low': 195.11000061035156, 'Open': 197.0500030517578, 'Volume': 58648300}, {'Date': Timestamp('2024-08-12 00:00:00'), 'Close': 197.49000549316406, 'High': 199.25999450683594, 'Low': 194.6699981689453, 'Open': 199.02000427246094, 'Volume': 64044900}, {'Date': Timestamp('2024-08-13 00:00:00'), 'Close': 207.8300018310547, 'High': 208.49000549316406, 'Low': 197.05999755859375, 'Open': 198.47000122070312, 'Volume': 76247400}, {'Date': Timestamp('2024-08-14 00:00:00'), 'Close': 201.3800048828125, 'High': 208.44000244140625, 'Low': 198.75, 'Open': 207.38999938964844, 'Volume': 70250000}, {'Date': Timestamp('2024-08-15 00:00:00'), 'Close': 214.13999938964844, 'High': 215.8800048828125, 'Low': 204.82000732421875, 'Open': 205.02000427246094, 'Volume': 89848500}, {'Date': Timestamp('2024-08-16 00:00:00'), 'Close': 216.1199951171875, 'High': 219.8000030517578, 'Low': 210.8000030517578, 'Open': 211.14999389648438, 'Volume': 88765100}, {'Date': Timestamp('2024-08-19 00:00:00'), 'Close': 222.72000122070312, 'High': 222.97999572753906, 'Low': 214.08999633789062, 'Open': 217.07000732421875, 'Volume': 76435200}, {'Date': Timestamp('2024-08-20 00:00:00'), 'Close': 221.10000610351562, 'High': 228.22000122070312, 'Low': 219.55999755859375, 'Open': 224.8800048828125, 'Volume': 74001200}, {'Date': Timestamp('2024-08-21 00:00:00'), 'Close': 223.27000427246094, 'High': 224.66000366210938, 'Low': 218.86000061035156, 'Open': 222.6699981689453, 'Volume': 70146000}, {'Date': Timestamp('2024-08-22 00:00:00'), 'Close': 210.66000366210938, 'High': 224.8000030517578, 'Low': 210.32000732421875, 'Open': 223.82000732421875, 'Volume': 79514500}, {'Date': Timestamp('2024-08-23 00:00:00'), 'Close': 220.32000732421875, 'High': 221.47999572753906, 'Low': 214.2100067138672, 'Open': 214.4600067138672, 'Volume': 81525200}, {'Date': Timestamp('2024-08-26 00:00:00'), 'Close': 213.2100067138672, 'High': 219.08999633789062, 'Low': 211.00999450683594, 'Open': 218.75, 'Volume': 59301200}, {'Date': Timestamp('2024-08-27 00:00:00'), 'Close': 209.2100067138672, 'High': 215.66000366210938, 'Low': 206.94000244140625, 'Open': 213.25, 'Volume': 62821400}, {'Date': Timestamp('2024-08-28 00:00:00'), 'Close': 205.75, 'High': 211.83999633789062, 'Low': 202.58999633789062, 'Open': 209.72000122070312, 'Volume': 64116400}, {'Date': Timestamp('2024-08-29 00:00:00'), 'Close': 206.27999877929688, 'High': 214.88999938964844, 'Low': 205.97000122070312, 'Open': 209.8000030517578, 'Volume': 62308800}, {'Date': Timestamp('2024-08-30 00:00:00'), 'Close': 214.11000061035156, 'High': 214.57000732421875, 'Low': 207.02999877929688, 'Open': 208.6300048828125, 'Volume': 63370600}, {'Date': Timestamp('2024-09-03 00:00:00'), 'Close': 210.60000610351562, 'High': 219.89999389648438, 'Low': 209.63999938964844, 'Open': 215.25999450683594, 'Volume': 76714200}, {'Date': Timestamp('2024-09-04 00:00:00'), 'Close': 219.41000366210938, 'High': 222.22000122070312, 'Low': 210.57000732421875, 'Open': 210.58999633789062, 'Volume': 80651800}, {'Date': Timestamp('2024-09-05 00:00:00'), 'Close': 230.1699981689453, 'High': 235.0, 'Low': 222.25, 'Open': 223.49000549316406, 'Volume': 119355000}, {'Date': Timestamp('2024-09-06 00:00:00'), 'Close': 210.72999572753906, 'High': 233.60000610351562, 'Low': 210.50999450683594, 'Open': 232.60000610351562, 'Volume': 112177000}, {'Date': Timestamp('2024-09-09 00:00:00'), 'Close': 216.27000427246094, 'High': 219.8699951171875, 'Low': 213.6699981689453, 'Open': 216.1999969482422, 'Volume': 67443500}, {'Date': Timestamp('2024-09-10 00:00:00'), 'Close': 226.1699981689453, 'High': 226.39999389648438, 'Low': 218.63999938964844, 'Open': 220.07000732421875, 'Volume': 78891100}, {'Date': Timestamp('2024-09-11 00:00:00'), 'Close': 228.1300048828125, 'High': 228.47000122070312, 'Low': 216.8000030517578, 'Open': 224.5500030517578, 'Volume': 83548600}, {'Date': Timestamp('2024-09-12 00:00:00'), 'Close': 229.80999755859375, 'High': 231.4499969482422, 'Low': 223.8300018310547, 'Open': 224.66000366210938, 'Volume': 72020000}, {'Date': Timestamp('2024-09-13 00:00:00'), 'Close': 230.2899932861328, 'High': 232.6699981689453, 'Low': 226.32000732421875, 'Open': 228.0, 'Volume': 59515100}, {'Date': Timestamp('2024-09-16 00:00:00'), 'Close': 226.77999877929688, 'High': 229.9600067138672, 'Low': 223.52999877929688, 'Open': 229.3000030517578, 'Volume': 54323000}, {'Date': Timestamp('2024-09-17 00:00:00'), 'Close': 227.8699951171875, 'High': 234.57000732421875, 'Low': 226.5500030517578, 'Open': 229.4499969482422, 'Volume': 66761600}, {'Date': Timestamp('2024-09-18 00:00:00'), 'Close': 227.1999969482422, 'High': 235.67999267578125, 'Low': 226.8800048828125, 'Open': 230.08999633789062, 'Volume': 78010200}, {'Date': Timestamp('2024-09-19 00:00:00'), 'Close': 243.9199981689453, 'High': 244.24000549316406, 'Low': 232.1300048828125, 'Open': 234.0, 'Volume': 102694600}, {'Date': Timestamp('2024-09-20 00:00:00'), 'Close': 238.25, 'High': 243.99000549316406, 'Low': 235.9199981689453, 'Open': 241.52000427246094, 'Volume': 99879100}, {'Date': Timestamp('2024-09-23 00:00:00'), 'Close': 250.0, 'High': 250.0, 'Low': 241.9199981689453, 'Open': 242.61000061035156, 'Volume': 86927200}, {'Date': Timestamp('2024-09-24 00:00:00'), 'Close': 254.27000427246094, 'High': 257.19000244140625, 'Low': 249.0500030517578, 'Open': 254.0800018310547, 'Volume': 88491000}, {'Date': Timestamp('2024-09-25 00:00:00'), 'Close': 257.0199890136719, 'High': 257.04998779296875, 'Low': 252.27999877929688, 'Open': 252.5399932861328, 'Volume': 65034300}, {'Date': Timestamp('2024-09-26 00:00:00'), 'Close': 254.22000122070312, 'High': 261.75, 'Low': 251.52999877929688, 'Open': 260.6000061035156, 'Volume': 67142200}, {'Date': Timestamp('2024-09-27 00:00:00'), 'Close': 260.4599914550781, 'High': 260.70001220703125, 'Low': 254.1199951171875, 'Open': 257.3800048828125, 'Volume': 70988100}, {'Date': Timestamp('2024-09-30 00:00:00'), 'Close': 261.6300048828125, 'High': 264.8599853515625, 'Low': 255.77000427246094, 'Open': 259.0400085449219, 'Volume': 80705700}, {'Date': Timestamp('2024-10-01 00:00:00'), 'Close': 258.0199890136719, 'High': 263.9800109863281, 'Low': 248.52999877929688, 'Open': 262.6700134277344, 'Volume': 87397600}, {'Date': Timestamp('2024-10-02 00:00:00'), 'Close': 249.02000427246094, 'High': 251.16000366210938, 'Low': 241.5, 'Open': 247.5500030517578, 'Volume': 93983900}, {'Date': Timestamp('2024-10-03 00:00:00'), 'Close': 240.66000366210938, 'High': 249.7899932861328, 'Low': 237.80999755859375, 'Open': 244.47999572753906, 'Volume': 80729200}, {'Date': Timestamp('2024-10-04 00:00:00'), 'Close': 250.0800018310547, 'High': 250.9600067138672, 'Low': 244.5800018310547, 'Open': 246.69000244140625, 'Volume': 86573200}, {'Date': Timestamp('2024-10-07 00:00:00'), 'Close': 240.8300018310547, 'High': 249.8300018310547, 'Low': 240.6999969482422, 'Open': 249.0, 'Volume': 68113300}, {'Date': Timestamp('2024-10-08 00:00:00'), 'Close': 244.5, 'High': 246.2100067138672, 'Low': 240.55999755859375, 'Open': 243.55999755859375, 'Volume': 56303200}, {'Date': Timestamp('2024-10-09 00:00:00'), 'Close': 241.0500030517578, 'High': 247.42999267578125, 'Low': 239.50999450683594, 'Open': 243.82000732421875, 'Volume': 66289500}, {'Date': Timestamp('2024-10-10 00:00:00'), 'Close': 238.77000427246094, 'High': 242.7899932861328, 'Low': 232.33999633789062, 'Open': 241.80999755859375, 'Volume': 83087100}, {'Date': Timestamp('2024-10-11 00:00:00'), 'Close': 217.8000030517578, 'High': 223.33999633789062, 'Low': 214.3800048828125, 'Open': 220.1300048828125, 'Volume': 142628900}, {'Date': Timestamp('2024-10-14 00:00:00'), 'Close': 219.16000366210938, 'High': 221.91000366210938, 'Low': 213.74000549316406, 'Open': 220.1300048828125, 'Volume': 86291900}, {'Date': Timestamp('2024-10-15 00:00:00'), 'Close': 219.57000732421875, 'High': 224.25999450683594, 'Low': 217.1199951171875, 'Open': 220.00999450683594, 'Volume': 62988800}, {'Date': Timestamp('2024-10-16 00:00:00'), 'Close': 221.3300018310547, 'High': 222.82000732421875, 'Low': 218.92999267578125, 'Open': 221.39999389648438, 'Volume': 49632800}, {'Date': Timestamp('2024-10-17 00:00:00'), 'Close': 220.88999938964844, 'High': 222.0800018310547, 'Low': 217.89999389648438, 'Open': 221.58999633789062, 'Volume': 50791800}, {'Date': Timestamp('2024-10-18 00:00:00'), 'Close': 220.6999969482422, 'High': 222.27999877929688, 'Low': 219.22999572753906, 'Open': 220.7100067138672, 'Volume': 49611900}, {'Date': Timestamp('2024-10-21 00:00:00'), 'Close': 218.85000610351562, 'High': 220.47999572753906, 'Low': 215.72999572753906, 'Open': 218.89999389648438, 'Volume': 47329000}, {'Date': Timestamp('2024-10-22 00:00:00'), 'Close': 217.97000122070312, 'High': 218.22000122070312, 'Low': 215.25999450683594, 'Open': 217.30999755859375, 'Volume': 43268700}, {'Date': Timestamp('2024-10-23 00:00:00'), 'Close': 213.64999389648438, 'High': 218.72000122070312, 'Low': 212.11000061035156, 'Open': 217.1300048828125, 'Volume': 80938900}, {'Date': Timestamp('2024-10-24 00:00:00'), 'Close': 260.4800109863281, 'High': 262.1199951171875, 'Low': 242.64999389648438, 'Open': 244.67999267578125, 'Volume': 204491900}, {'Date': Timestamp('2024-10-25 00:00:00'), 'Close': 269.19000244140625, 'High': 269.489990234375, 'Low': 255.32000732421875, 'Open': 256.010009765625, 'Volume': 161611900}, {'Date': Timestamp('2024-10-28 00:00:00'), 'Close': 262.510009765625, 'High': 273.5400085449219, 'Low': 262.239990234375, 'Open': 270.0, 'Volume': 107653600}, {'Date': Timestamp('2024-10-29 00:00:00'), 'Close': 259.5199890136719, 'High': 264.9800109863281, 'Low': 255.50999450683594, 'Open': 264.510009765625, 'Volume': 80521800}, {'Date': Timestamp('2024-10-30 00:00:00'), 'Close': 257.54998779296875, 'High': 263.3500061035156, 'Low': 255.82000732421875, 'Open': 258.0400085449219, 'Volume': 53993600}, {'Date': Timestamp('2024-10-31 00:00:00'), 'Close': 249.85000610351562, 'High': 259.75, 'Low': 249.25, 'Open': 257.989990234375, 'Volume': 66575300}, {'Date': Timestamp('2024-11-01 00:00:00'), 'Close': 248.97999572753906, 'High': 254.0, 'Low': 246.6300048828125, 'Open': 252.0399932861328, 'Volume': 57544800}, {'Date': Timestamp('2024-11-04 00:00:00'), 'Close': 242.83999633789062, 'High': 248.89999389648438, 'Low': 238.8800048828125, 'Open': 244.55999755859375, 'Volume': 68802400}, {'Date': Timestamp('2024-11-05 00:00:00'), 'Close': 251.44000244140625, 'High': 255.27999877929688, 'Low': 246.2100067138672, 'Open': 247.33999633789062, 'Volume': 69282500}, {'Date': Timestamp('2024-11-06 00:00:00'), 'Close': 288.5299987792969, 'High': 289.5899963378906, 'Low': 275.6199951171875, 'Open': 284.6700134277344, 'Volume': 165228700}, {'Date': Timestamp('2024-11-07 00:00:00'), 'Close': 296.9100036621094, 'High': 299.75, 'Low': 285.5199890136719, 'Open': 288.8900146484375, 'Volume': 117309200}, {'Date': Timestamp('2024-11-08 00:00:00'), 'Close': 321.2200012207031, 'High': 328.7099914550781, 'Low': 297.6600036621094, 'Open': 299.1400146484375, 'Volume': 204782800}, {'Date': Timestamp('2024-11-11 00:00:00'), 'Close': 350.0, 'High': 358.6400146484375, 'Low': 336.0, 'Open': 346.29998779296875, 'Volume': 210521600}, {'Date': Timestamp('2024-11-12 00:00:00'), 'Close': 328.489990234375, 'High': 345.8399963378906, 'Low': 323.30999755859375, 'Open': 342.739990234375, 'Volume': 155726000}, {'Date': Timestamp('2024-11-13 00:00:00'), 'Close': 330.239990234375, 'High': 344.6000061035156, 'Low': 322.5, 'Open': 335.8500061035156, 'Volume': 125405600}, {'Date': Timestamp('2024-11-14 00:00:00'), 'Close': 311.17999267578125, 'High': 329.9800109863281, 'Low': 310.3699951171875, 'Open': 327.69000244140625, 'Volume': 120726100}, {'Date': Timestamp('2024-11-15 00:00:00'), 'Close': 320.7200012207031, 'High': 324.67999267578125, 'Low': 309.2200012207031, 'Open': 310.57000732421875, 'Volume': 114440300}, {'Date': Timestamp('2024-11-18 00:00:00'), 'Close': 338.739990234375, 'High': 348.54998779296875, 'Low': 330.010009765625, 'Open': 340.7300109863281, 'Volume': 126547500}, {'Date': Timestamp('2024-11-19 00:00:00'), 'Close': 346.0, 'High': 347.3800048828125, 'Low': 332.75, 'Open': 335.760009765625, 'Volume': 88852500}, {'Date': Timestamp('2024-11-20 00:00:00'), 'Close': 342.0299987792969, 'High': 346.6000061035156, 'Low': 334.29998779296875, 'Open': 345.0, 'Volume': 66340700}, {'Date': Timestamp('2024-11-21 00:00:00'), 'Close': 339.6400146484375, 'High': 347.989990234375, 'Low': 335.2799987792969, 'Open': 343.80999755859375, 'Volume': 58011700}, {'Date': Timestamp('2024-11-22 00:00:00'), 'Close': 352.55999755859375, 'High': 361.5299987792969, 'Low': 337.70001220703125, 'Open': 341.0899963378906, 'Volume': 89140700}, {'Date': Timestamp('2024-11-25 00:00:00'), 'Close': 338.5899963378906, 'High': 361.92999267578125, 'Low': 338.20001220703125, 'Open': 360.1400146484375, 'Volume': 95890900}, {'Date': Timestamp('2024-11-26 00:00:00'), 'Close': 338.2300109863281, 'High': 346.9599914550781, 'Low': 335.6600036621094, 'Open': 341.0, 'Volume': 62295900}, {'Date': Timestamp('2024-11-27 00:00:00'), 'Close': 332.8900146484375, 'High': 342.54998779296875, 'Low': 326.5899963378906, 'Open': 341.79998779296875, 'Volume': 57896400}, {'Date': Timestamp('2024-11-29 00:00:00'), 'Close': 345.1600036621094, 'High': 345.45001220703125, 'Low': 334.6499938964844, 'Open': 336.0799865722656, 'Volume': 37167600}, {'Date': Timestamp('2024-12-02 00:00:00'), 'Close': 357.0899963378906, 'High': 360.0, 'Low': 351.1499938964844, 'Open': 352.3800048828125, 'Volume': 77986500}, {'Date': Timestamp('2024-12-03 00:00:00'), 'Close': 351.4200134277344, 'High': 355.69000244140625, 'Low': 348.20001220703125, 'Open': 351.79998779296875, 'Volume': 58267200}, {'Date': Timestamp('2024-12-04 00:00:00'), 'Close': 357.92999267578125, 'High': 358.1000061035156, 'Low': 348.6000061035156, 'Open': 353.0, 'Volume': 50810900}, {'Date': Timestamp('2024-12-05 00:00:00'), 'Close': 369.489990234375, 'High': 375.42999267578125, 'Low': 359.5, 'Open': 359.8699951171875, 'Volume': 81403600}, {'Date': Timestamp('2024-12-06 00:00:00'), 'Close': 389.2200012207031, 'High': 389.489990234375, 'Low': 370.79998779296875, 'Open': 377.4200134277344, 'Volume': 81455800}, {'Date': Timestamp('2024-12-09 00:00:00'), 'Close': 389.7900085449219, 'High': 404.79998779296875, 'Low': 378.010009765625, 'Open': 397.6099853515625, 'Volume': 96359200}, {'Date': Timestamp('2024-12-10 00:00:00'), 'Close': 400.989990234375, 'High': 409.7300109863281, 'Low': 390.8500061035156, 'Open': 392.67999267578125, 'Volume': 97563600}, {'Date': Timestamp('2024-12-11 00:00:00'), 'Close': 424.7699890136719, 'High': 424.8800048828125, 'Low': 402.3800048828125, 'Open': 409.70001220703125, 'Volume': 104287600}, {'Date': Timestamp('2024-12-12 00:00:00'), 'Close': 418.1000061035156, 'High': 429.29998779296875, 'Low': 415.0, 'Open': 424.8399963378906, 'Volume': 87752200}, {'Date': Timestamp('2024-12-13 00:00:00'), 'Close': 436.2300109863281, 'High': 436.29998779296875, 'Low': 415.7099914550781, 'Open': 420.0, 'Volume': 89000200}, {'Date': Timestamp('2024-12-16 00:00:00'), 'Close': 463.0199890136719, 'High': 463.19000244140625, 'Low': 436.1499938964844, 'Open': 441.0899963378906, 'Volume': 114083800}, {'Date': Timestamp('2024-12-17 00:00:00'), 'Close': 479.8599853515625, 'High': 483.989990234375, 'Low': 457.510009765625, 'Open': 475.8999938964844, 'Volume': 131223000}, {'Date': Timestamp('2024-12-18 00:00:00'), 'Close': 440.1300048828125, 'High': 488.5400085449219, 'Low': 427.010009765625, 'Open': 466.5, 'Volume': 149340800}, {'Date': Timestamp('2024-12-19 00:00:00'), 'Close': 436.1700134277344, 'High': 456.3599853515625, 'Low': 420.0199890136719, 'Open': 451.8800048828125, 'Volume': 118566100}, {'Date': Timestamp('2024-12-20 00:00:00'), 'Close': 421.05999755859375, 'High': 447.0799865722656, 'Low': 417.6400146484375, 'Open': 425.510009765625, 'Volume': 132216200}, {'Date': Timestamp('2024-12-23 00:00:00'), 'Close': 430.6000061035156, 'High': 434.510009765625, 'Low': 415.4100036621094, 'Open': 431.0, 'Volume': 72698100}, {'Date': Timestamp('2024-12-24 00:00:00'), 'Close': 462.2799987792969, 'High': 462.7799987792969, 'Low': 435.1400146484375, 'Open': 435.8999938964844, 'Volume': 59551800}, {'Date': Timestamp('2024-12-26 00:00:00'), 'Close': 454.1300048828125, 'High': 465.3299865722656, 'Low': 451.0199890136719, 'Open': 465.1600036621094, 'Volume': 76366400}, {'Date': Timestamp('2024-12-27 00:00:00'), 'Close': 431.6600036621094, 'High': 450.0, 'Low': 426.5, 'Open': 449.5199890136719, 'Volume': 82666800}, {'Date': Timestamp('2024-12-30 00:00:00'), 'Close': 417.4100036621094, 'High': 427.0, 'Low': 415.75, 'Open': 419.3999938964844, 'Volume': 64941000}, {'Date': Timestamp('2024-12-31 00:00:00'), 'Close': 403.8399963378906, 'High': 427.92999267578125, 'Low': 402.5400085449219, 'Open': 423.7900085449219, 'Volume': 76825100}, {'Date': Timestamp('2025-01-02 00:00:00'), 'Close': 379.2799987792969, 'High': 392.7300109863281, 'Low': 373.0400085449219, 'Open': 390.1000061035156, 'Volume': 109710700}, {'Date': Timestamp('2025-01-03 00:00:00'), 'Close': 410.44000244140625, 'High': 411.8800048828125, 'Low': 379.45001220703125, 'Open': 381.4800109863281, 'Volume': 95423300}, {'Date': Timestamp('2025-01-06 00:00:00'), 'Close': 411.04998779296875, 'High': 426.42999267578125, 'Low': 401.70001220703125, 'Open': 423.20001220703125, 'Volume': 85516500}, {'Date': Timestamp('2025-01-07 00:00:00'), 'Close': 394.3599853515625, 'High': 414.3299865722656, 'Low': 390.0, 'Open': 405.8299865722656, 'Volume': 75699500}, {'Date': Timestamp('2025-01-08 00:00:00'), 'Close': 394.94000244140625, 'High': 402.5, 'Low': 387.3999938964844, 'Open': 392.95001220703125, 'Volume': 73038800}, {'Date': Timestamp('2025-01-10 00:00:00'), 'Close': 394.739990234375, 'High': 399.2799987792969, 'Low': 377.2900085449219, 'Open': 391.3999938964844, 'Volume': 62287300}, {'Date': Timestamp('2025-01-13 00:00:00'), 'Close': 403.30999755859375, 'High': 403.7900085449219, 'Low': 380.07000732421875, 'Open': 383.2099914550781, 'Volume': 67580500}, {'Date': Timestamp('2025-01-14 00:00:00'), 'Close': 396.3599853515625, 'High': 422.6400146484375, 'Low': 394.5400085449219, 'Open': 414.3399963378906, 'Volume': 84565000}, {'Date': Timestamp('2025-01-15 00:00:00'), 'Close': 428.2200012207031, 'High': 429.79998779296875, 'Low': 405.6600036621094, 'Open': 409.8999938964844, 'Volume': 81375500}, {'Date': Timestamp('2025-01-16 00:00:00'), 'Close': 413.82000732421875, 'High': 424.0, 'Low': 409.1300048828125, 'Open': 423.489990234375, 'Volume': 68335200}, {'Date': Timestamp('2025-01-17 00:00:00'), 'Close': 426.5, 'High': 439.739990234375, 'Low': 419.75, 'Open': 421.5, 'Volume': 94991400}, {'Date': Timestamp('2025-01-21 00:00:00'), 'Close': 424.07000732421875, 'High': 433.20001220703125, 'Low': 406.30999755859375, 'Open': 432.6400146484375, 'Volume': 87320900}, {'Date': Timestamp('2025-01-22 00:00:00'), 'Close': 415.1099853515625, 'High': 428.0, 'Low': 414.5899963378906, 'Open': 416.80999755859375, 'Volume': 60963300}, {'Date': Timestamp('2025-01-23 00:00:00'), 'Close': 412.3800048828125, 'High': 420.7300109863281, 'Low': 408.95001220703125, 'Open': 416.05999755859375, 'Volume': 50690600}, {'Date': Timestamp('2025-01-24 00:00:00'), 'Close': 406.5799865722656, 'High': 418.8800048828125, 'Low': 405.7799987792969, 'Open': 414.45001220703125, 'Volume': 56427100}, {'Date': Timestamp('2025-01-27 00:00:00'), 'Close': 397.1499938964844, 'High': 406.69000244140625, 'Low': 389.0, 'Open': 394.79998779296875, 'Volume': 58125500}, {'Date': Timestamp('2025-01-28 00:00:00'), 'Close': 398.0899963378906, 'High': 400.5899963378906, 'Low': 386.5, 'Open': 396.9100036621094, 'Volume': 48910700}, {'Date': Timestamp('2025-01-29 00:00:00'), 'Close': 389.1000061035156, 'High': 398.5899963378906, 'Low': 384.4800109863281, 'Open': 395.2099914550781, 'Volume': 68033600}, {'Date': Timestamp('2025-01-30 00:00:00'), 'Close': 400.2799987792969, 'High': 412.5, 'Low': 384.4100036621094, 'Open': 410.7799987792969, 'Volume': 98092900}, {'Date': Timestamp('2025-01-31 00:00:00'), 'Close': 404.6000061035156, 'High': 419.989990234375, 'Low': 401.3399963378906, 'Open': 401.5299987792969, 'Volume': 83568200}, {'Date': Timestamp('2025-02-03 00:00:00'), 'Close': 383.67999267578125, 'High': 389.1700134277344, 'Low': 374.3599853515625, 'Open': 386.67999267578125, 'Volume': 93732100}, {'Date': Timestamp('2025-02-04 00:00:00'), 'Close': 392.2099914550781, 'High': 394.0, 'Low': 381.3999938964844, 'Open': 382.6300048828125, 'Volume': 57072200}, {'Date': Timestamp('2025-02-05 00:00:00'), 'Close': 378.1700134277344, 'High': 388.3900146484375, 'Low': 375.5299987792969, 'Open': 387.510009765625, 'Volume': 57223300}, {'Date': Timestamp('2025-02-06 00:00:00'), 'Close': 374.32000732421875, 'High': 375.3999938964844, 'Low': 363.17999267578125, 'Open': 373.0299987792969, 'Volume': 77918200}, {'Date': Timestamp('2025-02-07 00:00:00'), 'Close': 361.6199951171875, 'High': 380.54998779296875, 'Low': 360.3399963378906, 'Open': 370.19000244140625, 'Volume': 70298300}, {'Date': Timestamp('2025-02-10 00:00:00'), 'Close': 350.7300109863281, 'High': 362.70001220703125, 'Low': 350.510009765625, 'Open': 356.2099914550781, 'Volume': 77514900}, {'Date': Timestamp('2025-02-11 00:00:00'), 'Close': 328.5, 'High': 349.3699951171875, 'Low': 325.1000061035156, 'Open': 345.79998779296875, 'Volume': 118543400}, {'Date': Timestamp('2025-02-12 00:00:00'), 'Close': 336.510009765625, 'High': 346.3999938964844, 'Low': 329.1199951171875, 'Open': 329.94000244140625, 'Volume': 105382700}, {'Date': Timestamp('2025-02-13 00:00:00'), 'Close': 355.94000244140625, 'High': 358.69000244140625, 'Low': 342.8500061035156, 'Open': 345.0, 'Volume': 89441500}, {'Date': Timestamp('2025-02-14 00:00:00'), 'Close': 355.8399963378906, 'High': 362.0, 'Low': 347.5, 'Open': 360.6199951171875, 'Volume': 68277300}, {'Date': Timestamp('2025-02-18 00:00:00'), 'Close': 354.1099853515625, 'High': 359.1000061035156, 'Low': 350.0199890136719, 'Open': 355.010009765625, 'Volume': 51631700}, {'Date': Timestamp('2025-02-19 00:00:00'), 'Close': 360.55999755859375, 'High': 367.3399963378906, 'Low': 353.6700134277344, 'Open': 354.0, 'Volume': 67094400}, {'Date': Timestamp('2025-02-20 00:00:00'), 'Close': 354.3999938964844, 'High': 362.29998779296875, 'Low': 348.0, 'Open': 361.510009765625, 'Volume': 45965400}, {'Date': Timestamp('2025-02-21 00:00:00'), 'Close': 337.79998779296875, 'High': 354.9800109863281, 'Low': 334.4200134277344, 'Open': 353.44000244140625, 'Volume': 74058600}, {'Date': Timestamp('2025-02-24 00:00:00'), 'Close': 330.5299987792969, 'High': 342.3999938964844, 'Low': 324.70001220703125, 'Open': 338.1400146484375, 'Volume': 76052300}, {'Date': Timestamp('2025-02-25 00:00:00'), 'Close': 302.79998779296875, 'High': 328.8900146484375, 'Low': 297.25, 'Open': 327.0199890136719, 'Volume': 134228800}, {'Date': Timestamp('2025-02-26 00:00:00'), 'Close': 290.79998779296875, 'High': 309.0, 'Low': 288.0400085449219, 'Open': 303.7099914550781, 'Volume': 100118300}, {'Date': Timestamp('2025-02-27 00:00:00'), 'Close': 281.95001220703125, 'High': 297.2300109863281, 'Low': 280.8800048828125, 'Open': 291.1600036621094, 'Volume': 101748200}, {'Date': Timestamp('2025-02-28 00:00:00'), 'Close': 292.9800109863281, 'High': 293.8800048828125, 'Low': 273.6000061035156, 'Open': 279.5, 'Volume': 115697000}, {'Date': Timestamp('2025-03-03 00:00:00'), 'Close': 284.6499938964844, 'High': 303.94000244140625, 'Low': 277.29998779296875, 'Open': 300.3399963378906, 'Volume': 115551400}, {'Date': Timestamp('2025-03-04 00:00:00'), 'Close': 272.0400085449219, 'High': 284.3500061035156, 'Low': 261.8399963378906, 'Open': 270.92999267578125, 'Volume': 126706600}, {'Date': Timestamp('2025-03-05 00:00:00'), 'Close': 279.1000061035156, 'High': 279.54998779296875, 'Low': 267.7099914550781, 'Open': 272.9200134277344, 'Volume': 94042900}, {'Date': Timestamp('2025-03-06 00:00:00'), 'Close': 263.45001220703125, 'High': 272.6499938964844, 'Low': 260.0199890136719, 'Open': 272.05999755859375, 'Volume': 98451600}, {'Date': Timestamp('2025-03-07 00:00:00'), 'Close': 262.6700134277344, 'High': 266.25, 'Low': 250.72999572753906, 'Open': 259.32000732421875, 'Volume': 102369600}, {'Date': Timestamp('2025-03-10 00:00:00'), 'Close': 222.14999389648438, 'High': 253.3699951171875, 'Low': 220.0, 'Open': 252.5399932861328, 'Volume': 189076900}, {'Date': Timestamp('2025-03-11 00:00:00'), 'Close': 230.5800018310547, 'High': 237.05999755859375, 'Low': 217.02000427246094, 'Open': 225.30999755859375, 'Volume': 174896400}, {'Date': Timestamp('2025-03-12 00:00:00'), 'Close': 248.08999633789062, 'High': 251.83999633789062, 'Low': 241.10000610351562, 'Open': 247.22000122070312, 'Volume': 142215700}, {'Date': Timestamp('2025-03-13 00:00:00'), 'Close': 240.67999267578125, 'High': 248.2899932861328, 'Low': 232.60000610351562, 'Open': 248.1300048828125, 'Volume': 114813500}, {'Date': Timestamp('2025-03-14 00:00:00'), 'Close': 249.97999572753906, 'High': 251.5800018310547, 'Low': 240.72999572753906, 'Open': 247.30999755859375, 'Volume': 100242300}, {'Date': Timestamp('2025-03-17 00:00:00'), 'Close': 238.00999450683594, 'High': 245.39999389648438, 'Low': 232.8000030517578, 'Open': 245.05999755859375, 'Volume': 111900600}, {'Date': Timestamp('2025-03-18 00:00:00'), 'Close': 225.30999755859375, 'High': 230.10000610351562, 'Low': 222.27999877929688, 'Open': 228.16000366210938, 'Volume': 111477600}, {'Date': Timestamp('2025-03-19 00:00:00'), 'Close': 235.86000061035156, 'High': 241.41000366210938, 'Low': 229.1999969482422, 'Open': 231.61000061035156, 'Volume': 111993800}, {'Date': Timestamp('2025-03-20 00:00:00'), 'Close': 236.25999450683594, 'High': 238.0, 'Low': 230.0500030517578, 'Open': 233.35000610351562, 'Volume': 99028300}, {'Date': Timestamp('2025-03-21 00:00:00'), 'Close': 248.7100067138672, 'High': 249.52000427246094, 'Low': 234.5500030517578, 'Open': 234.99000549316406, 'Volume': 132728700}, {'Date': Timestamp('2025-03-24 00:00:00'), 'Close': 278.3900146484375, 'High': 278.6400146484375, 'Low': 256.3299865722656, 'Open': 258.0799865722656, 'Volume': 169079900}, {'Date': Timestamp('2025-03-25 00:00:00'), 'Close': 288.1400146484375, 'High': 288.20001220703125, 'Low': 271.2799987792969, 'Open': 283.6000061035156, 'Volume': 150361500}, {'Date': Timestamp('2025-03-26 00:00:00'), 'Close': 272.05999755859375, 'High': 284.8999938964844, 'Low': 266.510009765625, 'Open': 282.6600036621094, 'Volume': 153629800}, {'Date': Timestamp('2025-03-27 00:00:00'), 'Close': 273.1300048828125, 'High': 291.8500061035156, 'Low': 271.82000732421875, 'Open': 272.4800109863281, 'Volume': 162572100}, {'Date': Timestamp('2025-03-28 00:00:00'), 'Close': 263.54998779296875, 'High': 276.1000061035156, 'Low': 260.57000732421875, 'Open': 275.5799865722656, 'Volume': 123809400}, {'Date': Timestamp('2025-03-31 00:00:00'), 'Close': 259.1600036621094, 'High': 260.55999755859375, 'Low': 243.36000061035156, 'Open': 249.30999755859375, 'Volume': 134008900}, {'Date': Timestamp('2025-04-01 00:00:00'), 'Close': 268.4599914550781, 'High': 277.45001220703125, 'Low': 259.25, 'Open': 263.79998779296875, 'Volume': 146486900}, {'Date': Timestamp('2025-04-02 00:00:00'), 'Close': 282.760009765625, 'High': 284.989990234375, 'Low': 251.27000427246094, 'Open': 254.60000610351562, 'Volume': 212787800}, {'Date': Timestamp('2025-04-03 00:00:00'), 'Close': 267.2799987792969, 'High': 276.29998779296875, 'Low': 261.510009765625, 'Open': 265.2900085449219, 'Volume': 136174300}, {'Date': Timestamp('2025-04-04 00:00:00'), 'Close': 239.42999267578125, 'High': 261.0, 'Low': 236.0, 'Open': 255.3800048828125, 'Volume': 181229400}, {'Date': Timestamp('2025-04-07 00:00:00'), 'Close': 233.2899932861328, 'High': 252.0, 'Low': 214.25, 'Open': 223.77999877929688, 'Volume': 183453800}, {'Date': Timestamp('2025-04-08 00:00:00'), 'Close': 221.86000061035156, 'High': 250.44000244140625, 'Low': 217.8000030517578, 'Open': 245.0, 'Volume': 171603500}, {'Date': Timestamp('2025-04-09 00:00:00'), 'Close': 272.20001220703125, 'High': 274.69000244140625, 'Low': 223.8800048828125, 'Open': 224.69000244140625, 'Volume': 219433400}, {'Date': Timestamp('2025-04-10 00:00:00'), 'Close': 252.39999389648438, 'High': 262.489990234375, 'Low': 239.3300018310547, 'Open': 260.0, 'Volume': 181722600}, {'Date': Timestamp('2025-04-11 00:00:00'), 'Close': 252.30999755859375, 'High': 257.739990234375, 'Low': 241.36000061035156, 'Open': 251.83999633789062, 'Volume': 128948100}, {'Date': Timestamp('2025-04-14 00:00:00'), 'Close': 252.35000610351562, 'High': 261.79998779296875, 'Low': 245.92999267578125, 'Open': 258.3599853515625, 'Volume': 100135200}, {'Date': Timestamp('2025-04-15 00:00:00'), 'Close': 254.11000061035156, 'High': 258.75, 'Low': 247.5399932861328, 'Open': 249.91000366210938, 'Volume': 79594300}, {'Date': Timestamp('2025-04-16 00:00:00'), 'Close': 241.5500030517578, 'High': 251.97000122070312, 'Low': 233.88999938964844, 'Open': 247.61000061035156, 'Volume': 112378700}, {'Date': Timestamp('2025-04-17 00:00:00'), 'Close': 241.3699951171875, 'High': 244.33999633789062, 'Low': 237.67999267578125, 'Open': 243.47000122070312, 'Volume': 83404800}, {'Date': Timestamp('2025-04-21 00:00:00'), 'Close': 227.5, 'High': 232.2100067138672, 'Low': 222.7899932861328, 'Open': 230.25999450683594, 'Volume': 97768000}, {'Date': Timestamp('2025-04-22 00:00:00'), 'Close': 237.97000122070312, 'High': 242.7899932861328, 'Low': 229.85000610351562, 'Open': 230.9600067138672, 'Volume': 120858500}, {'Date': Timestamp('2025-04-23 00:00:00'), 'Close': 250.74000549316406, 'High': 259.45001220703125, 'Low': 244.42999267578125, 'Open': 254.86000061035156, 'Volume': 150381900}, {'Date': Timestamp('2025-04-24 00:00:00'), 'Close': 259.510009765625, 'High': 259.5400085449219, 'Low': 249.1999969482422, 'Open': 250.5, 'Volume': 94464200}, {'Date': Timestamp('2025-04-25 00:00:00'), 'Close': 284.95001220703125, 'High': 286.8500061035156, 'Low': 259.6300048828125, 'Open': 261.69000244140625, 'Volume': 167560700}, {'Date': Timestamp('2025-04-28 00:00:00'), 'Close': 285.8800048828125, 'High': 294.8599853515625, 'Low': 272.4200134277344, 'Open': 288.9800109863281, 'Volume': 151731800}, {'Date': Timestamp('2025-04-29 00:00:00'), 'Close': 292.0299987792969, 'High': 293.32000732421875, 'Low': 279.4700012207031, 'Open': 285.5, 'Volume': 108906600}, {'Date': Timestamp('2025-04-30 00:00:00'), 'Close': 282.1600036621094, 'High': 284.45001220703125, 'Low': 270.7799987792969, 'Open': 279.8999938964844, 'Volume': 128961100}, {'Date': Timestamp('2025-05-01 00:00:00'), 'Close': 280.5199890136719, 'High': 290.8699951171875, 'Low': 279.80999755859375, 'Open': 280.010009765625, 'Volume': 99659000}, {'Date': Timestamp('2025-05-02 00:00:00'), 'Close': 287.2099914550781, 'High': 294.7799987792969, 'Low': 279.80999755859375, 'Open': 284.8999938964844, 'Volume': 114454700}, {'Date': Timestamp('2025-05-05 00:00:00'), 'Close': 280.260009765625, 'High': 284.8500061035156, 'Low': 274.3999938964844, 'Open': 284.57000732421875, 'Volume': 94618900}, {'Date': Timestamp('2025-05-06 00:00:00'), 'Close': 275.3500061035156, 'High': 277.7300109863281, 'Low': 271.3500061035156, 'Open': 273.1099853515625, 'Volume': 76715800}, {'Date': Timestamp('2025-05-07 00:00:00'), 'Close': 276.2200012207031, 'High': 277.9200134277344, 'Low': 271.0, 'Open': 276.8800048828125, 'Volume': 71592600}, {'Date': Timestamp('2025-05-08 00:00:00'), 'Close': 284.82000732421875, 'High': 289.79998779296875, 'Low': 279.4100036621094, 'Open': 279.6300048828125, 'Volume': 97539400}, {'Date': Timestamp('2025-05-09 00:00:00'), 'Close': 298.260009765625, 'High': 307.0400085449219, 'Low': 290.0, 'Open': 290.2099914550781, 'Volume': 132387800}, {'Date': Timestamp('2025-05-12 00:00:00'), 'Close': 318.3800048828125, 'High': 322.2099914550781, 'Low': 311.5, 'Open': 321.989990234375, 'Volume': 112826700}, {'Date': Timestamp('2025-05-13 00:00:00'), 'Close': 334.07000732421875, 'High': 337.5899963378906, 'Low': 316.79998779296875, 'Open': 320.0, 'Volume': 136992600}, {'Date': Timestamp('2025-05-14 00:00:00'), 'Close': 347.67999267578125, 'High': 350.0, 'Low': 337.0, 'Open': 342.5, 'Volume': 136997300}, {'Date': Timestamp('2025-05-15 00:00:00'), 'Close': 342.82000732421875, 'High': 346.1400146484375, 'Low': 334.7200012207031, 'Open': 340.3399963378906, 'Volume': 97882600}, {'Date': Timestamp('2025-05-16 00:00:00'), 'Close': 349.9800109863281, 'High': 351.6199951171875, 'Low': 342.3299865722656, 'Open': 346.239990234375, 'Volume': 95895700}, {'Date': Timestamp('2025-05-19 00:00:00'), 'Close': 342.0899963378906, 'High': 343.0, 'Low': 333.3699951171875, 'Open': 336.29998779296875, 'Volume': 88869900}, {'Date': Timestamp('2025-05-20 00:00:00'), 'Close': 343.82000732421875, 'High': 354.989990234375, 'Low': 341.6300048828125, 'Open': 347.8699951171875, 'Volume': 131715500}, {'Date': Timestamp('2025-05-21 00:00:00'), 'Close': 334.6199951171875, 'High': 347.3500061035156, 'Low': 332.20001220703125, 'Open': 344.42999267578125, 'Volume': 102354800}, {'Date': Timestamp('2025-05-22 00:00:00'), 'Close': 341.0400085449219, 'High': 347.2699890136719, 'Low': 331.3900146484375, 'Open': 331.8999938964844, 'Volume': 97113400}, {'Date': Timestamp('2025-05-23 00:00:00'), 'Close': 339.3399963378906, 'High': 343.17999267578125, 'Low': 333.2099914550781, 'Open': 337.9200134277344, 'Volume': 84654800}, {'Date': Timestamp('2025-05-27 00:00:00'), 'Close': 362.8900146484375, 'High': 363.7900085449219, 'Low': 347.32000732421875, 'Open': 347.3500061035156, 'Volume': 120146400}, {'Date': Timestamp('2025-05-28 00:00:00'), 'Close': 356.8999938964844, 'High': 365.0, 'Low': 355.9100036621094, 'Open': 364.8399963378906, 'Volume': 91404300}, {'Date': Timestamp('2025-05-29 00:00:00'), 'Close': 358.42999267578125, 'High': 367.7099914550781, 'Low': 356.0, 'Open': 365.2900085449219, 'Volume': 88545700}, {'Date': Timestamp('2025-05-30 00:00:00'), 'Close': 346.4599914550781, 'High': 363.67999267578125, 'Low': 345.2900085449219, 'Open': 355.5199890136719, 'Volume': 123474900}, {'Date': Timestamp('2025-06-02 00:00:00'), 'Close': 342.69000244140625, 'High': 348.0199890136719, 'Low': 333.3299865722656, 'Open': 343.5, 'Volume': 81873800}, {'Date': Timestamp('2025-06-03 00:00:00'), 'Close': 344.2699890136719, 'High': 355.3999938964844, 'Low': 343.0400085449219, 'Open': 346.6000061035156, 'Volume': 99324500}, {'Date': Timestamp('2025-06-04 00:00:00'), 'Close': 332.04998779296875, 'High': 345.6000061035156, 'Low': 327.3299865722656, 'Open': 345.1000061035156, 'Volume': 98912100}, {'Date': Timestamp('2025-06-05 00:00:00'), 'Close': 284.70001220703125, 'High': 324.54998779296875, 'Low': 273.2099914550781, 'Open': 322.489990234375, 'Volume': 287499800}, {'Date': Timestamp('2025-06-06 00:00:00'), 'Close': 295.1400146484375, 'High': 305.5, 'Low': 291.1400146484375, 'Open': 298.8299865722656, 'Volume': 164747700}, {'Date': Timestamp('2025-06-09 00:00:00'), 'Close': 308.5799865722656, 'High': 309.8299865722656, 'Low': 281.8500061035156, 'Open': 285.9599914550781, 'Volume': 140908900}, {'Date': Timestamp('2025-06-10 00:00:00'), 'Close': 326.0899963378906, 'High': 327.8299865722656, 'Low': 310.6700134277344, 'Open': 314.94000244140625, 'Volume': 151256500}, {'Date': Timestamp('2025-06-11 00:00:00'), 'Close': 326.42999267578125, 'High': 335.5, 'Low': 322.5, 'Open': 334.3999938964844, 'Volume': 122611400}, {'Date': Timestamp('2025-06-12 00:00:00'), 'Close': 319.1099853515625, 'High': 332.55999755859375, 'Low': 316.8599853515625, 'Open': 323.0799865722656, 'Volume': 105127500}, {'Date': Timestamp('2025-06-13 00:00:00'), 'Close': 325.30999755859375, 'High': 332.989990234375, 'Low': 313.29998779296875, 'Open': 313.9700012207031, 'Volume': 128964300}, {'Date': Timestamp('2025-06-16 00:00:00'), 'Close': 329.1300048828125, 'High': 332.04998779296875, 'Low': 326.4100036621094, 'Open': 331.2900085449219, 'Volume': 83925900}, {'Date': Timestamp('2025-06-17 00:00:00'), 'Close': 316.3500061035156, 'High': 327.260009765625, 'Low': 314.739990234375, 'Open': 326.0899963378906, 'Volume': 88282700}, {'Date': Timestamp('2025-06-18 00:00:00'), 'Close': 322.04998779296875, 'High': 329.32000732421875, 'Low': 315.45001220703125, 'Open': 317.30999755859375, 'Volume': 95137700}, {'Date': Timestamp('2025-06-20 00:00:00'), 'Close': 322.1600036621094, 'High': 332.3599853515625, 'Low': 317.7799987792969, 'Open': 327.95001220703125, 'Volume': 108274100}], 'indicators': {'RSI': {'237': 53, '238': 37, '239': 41, '240': 46, '241': 52, '242': 52, '243': 49, '244': 52, '245': 53, '246': 48, '247': 50, '248': 50}, 'MACD': {'237': 15, '238': 10, '239': 6, '240': 4, '241': 4, '242': 4, '243': 3, '244': 3, '245': 3, '246': 2, '247': 2, '248': 2}, 'MACD_Signal': {'237': 18, '238': 16, '239': 14, '240': 12, '241': 11, '242': 9, '243': 8, '244': 7, '245': 6, '246': 5, '247': 5, '248': 4}, 'VWAP': {'237': 346, '238': 337, '239': 332, '240': 329, '241': 327, '242': 327, '243': 326, '244': 325, '245': 323, '246': 321, '247': 319, '248': 317}}}\n"
     ]
    },
    {
     "name": "stderr",
     "output_type": "stream",
     "text": [
      "\n"
     ]
    }
   ],
   "source": [
    "\n",
    "print(fun(\"TSLA\", 365))\n"
   ]
  }
 ],
 "metadata": {
  "kernelspec": {
   "display_name": "Python (fin)",
   "language": "python",
   "name": "fin"
  },
  "language_info": {
   "codemirror_mode": {
    "name": "ipython",
    "version": 3
   },
   "file_extension": ".py",
   "mimetype": "text/x-python",
   "name": "python",
   "nbconvert_exporter": "python",
   "pygments_lexer": "ipython3",
   "version": "3.12.11"
  }
 },
 "nbformat": 4,
 "nbformat_minor": 2
}
